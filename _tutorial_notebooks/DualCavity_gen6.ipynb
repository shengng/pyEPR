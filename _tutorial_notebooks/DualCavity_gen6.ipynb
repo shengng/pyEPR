{
 "cells": [
  {
   "cell_type": "code",
   "execution_count": 1,
   "metadata": {},
   "outputs": [],
   "source": [
    "%load_ext autoreload\n",
    "%autoreload 2\n",
    "%config IPCompleter.greedy = True"
   ]
  },
  {
   "cell_type": "markdown",
   "metadata": {},
   "source": [
    "# pyEPR Startup Example\n",
    "##### Single transmon qubit mode analysis  \n",
    "Author: Zlatko Minev"
   ]
  },
  {
   "cell_type": "markdown",
   "metadata": {},
   "source": [
    "## <div style=\"background:#BBFABB;line-height:2em;\">Load pyEPR<div>"
   ]
  },
  {
   "cell_type": "code",
   "execution_count": 2,
   "metadata": {},
   "outputs": [],
   "source": [
    "import pyEPR as epr\n",
    "import matplotlib.pylab as plt\n",
    "import numpy as np\n",
    "import pyEPR.calcs\n",
    "from pyEPR.calcs import Convert"
   ]
  },
  {
   "cell_type": "markdown",
   "metadata": {},
   "source": [
    "This loads the `pyEPR` package under the shorthand name `epr`.\n",
    "\n",
    "We can access the main different submodules, like this:\n",
    "  * `epr.calcs`  : calculations tools \n",
    "  * `epr.ansys`  : tools for controlling ansys hfss, q3d, etc.\n",
    "  * `epr.toolbox`: useful and handly toolbox for plotting, pythonic manipulations, etc. \n",
    "  * `epr.core`  : The core module of analysis functions. This does not need ot be accessed by the user typically. It essentually provides the main two classes: ProjectInfo, DistributedAnalysis, and QuantumAnalysis -- which represent the different stages of the simulation. Let us examine these next. \n",
    "  \n",
    "EPR also has some handy functions, which we will explore:"
   ]
  },
  {
   "cell_type": "code",
   "execution_count": 3,
   "metadata": {},
   "outputs": [
    {
     "name": "stdout",
     "output_type": "stream",
     "text": [
      "Parsing unis:  1um = 1e-06 meters\n",
      "For   L_J = 11 nH, the Josephson junction energy is\n",
      "      E_J = 14.9 GHz\n"
     ]
    }
   ],
   "source": [
    "print('Parsing unis:  1um =', \n",
    "      epr.parse_entry('1um', 'meters'), 'meters')\n",
    "\n",
    "print(f\"\"\"For   L_J = 11 nH, the Josephson junction energy is\n",
    "      E_J = {epr.calcs.Convert.Ej_from_Lj(11, 'nH', 'GHz'):.1f} GHz\"\"\")"
   ]
  },
  {
   "cell_type": "markdown",
   "metadata": {},
   "source": [
    "#### Load Ansys HFSS tutorial file  "
   ]
  },
  {
   "cell_type": "markdown",
   "metadata": {},
   "source": [
    "Let us first determine where the example file is stored.\n",
    "For tutorial, let us get the path to the tutorial folder."
   ]
  },
  {
   "cell_type": "code",
   "execution_count": 4,
   "metadata": {},
   "outputs": [
    {
     "name": "stdout",
     "output_type": "stream",
     "text": [
      "We will the example project located in\n",
      " C:\\Miniconda\\envs\\virenv\\lib\\site-packages\\_example_files\n"
     ]
    }
   ],
   "source": [
    "# Load Path temporarily just to find where the tutorial folder is\n",
    "# return path_to_project\n",
    "from pathlib import Path\n",
    "path_to_project = Path(epr.__file__).parent.parent / '_example_files'\n",
    "print(f'We will the example project located in\\n {path_to_project}')"
   ]
  },
  {
   "cell_type": "markdown",
   "metadata": {},
   "source": [
    "## <div style=\"background:#BBFABB;line-height:2em;\">Connect to Ansys HFSS<div>"
   ]
  },
  {
   "cell_type": "markdown",
   "metadata": {},
   "source": [
    "Now, we will open Ansys Desktop and connect to a specific project.\n",
    "\n",
    "You can use the following creation keyword arguments to specify which design to look at \n",
    "\n",
    " * `project_path`: \n",
    "    Directory path to the hfss project file. Should be the directory, not the file.\n",
    "    default = None: Assumes the project is open, and thus gets the project based on `project_name`\n",
    " * `project_name`:\n",
    "    Name of the project within the project_path. \"None\" will get the current active one.\n",
    " * `design_name` :\n",
    "    Name of the design within the project. \"None\" will get the current active one.\n",
    " * `setup_name`  :\n",
    "    Name of the setup within the design. \"None\" will get the current active one.\n",
    "\n",
    "Use `?epr.ProjectInfo` to see all the arguments"
   ]
  },
  {
   "cell_type": "code",
   "execution_count": 5,
   "metadata": {},
   "outputs": [
    {
     "name": "stderr",
     "output_type": "stream",
     "text": [
      "INFO 06:43PM [connect_project]: Connecting to Ansys Desktop API...\n",
      "INFO 06:43PM [load_ansys_project]: \tFile path to HFSS project found.\n",
      "INFO 06:43PM [load_ansys_project]: \tOpened Ansys App\n",
      "INFO 06:43PM [load_ansys_project]: \tOpened Ansys Desktop v2021.2.0\n",
      "INFO 06:43PM [load_ansys_project]: \tOpened Ansys Project\n",
      "\tFolder:    C:/Users/Lehnert Lab/Documents/Sheng-Xiang/Cavity_design/\n",
      "\tProject:   DualCavity\n",
      "INFO 06:43PM [connect_design]: \tOpened active design\n",
      "\tDesign:    L Two Post Memory with a sapphire rod_eigenmode_gen6 [Solution type: Eigenmode]\n",
      "INFO 06:43PM [get_setup]: \tOpened setup `Setup1`  (<class 'pyEPR.ansys.HfssEMSetup'>)\n",
      "INFO 06:43PM [connect]: \tConnected to project \"DualCavity\" and design \"L Two Post Memory with a sapphire rod_eigenmode_gen6\" 😀 \n",
      "\n"
     ]
    }
   ],
   "source": [
    "path_to_project = r'C:\\Users\\Lehnert Lab\\Documents\\Sheng-Xiang\\Cavity_design'\n",
    "pinfo = epr.ProjectInfo(project_path = path_to_project, \n",
    "                         project_name = 'DualCavity',\n",
    "                         design_name  = 'L Two Post Memory with a sapphire rod_eigenmode_gen6')"
   ]
  },
  {
   "cell_type": "markdown",
   "metadata": {},
   "source": [
    "Let's see what the design type was using the `design` object"
   ]
  },
  {
   "cell_type": "code",
   "execution_count": 6,
   "metadata": {},
   "outputs": [
    {
     "data": {
      "text/plain": [
       "'Eigenmode'"
      ]
     },
     "execution_count": 6,
     "metadata": {},
     "output_type": "execute_result"
    }
   ],
   "source": [
    "pinfo.design.solution_type"
   ]
  },
  {
   "cell_type": "markdown",
   "metadata": {},
   "source": [
    "Let us see what all the object in the design are. `pinfo` contains a function to retrieve these for convenience."
   ]
  },
  {
   "cell_type": "code",
   "execution_count": 7,
   "metadata": {},
   "outputs": [
    {
     "data": {
      "text/plain": [
       "['Cavity1',\n",
       " 'SapphireRod',\n",
       " 'SMA_RO_pin1',\n",
       " 'SMA_RO_pin2',\n",
       " 'SMA_Storage_pin',\n",
       " 'QubitSapphire',\n",
       " 'rect_jj1',\n",
       " 'RO_pin2_1',\n",
       " 'RO_pin1_1',\n",
       " 'Storage_pin_1',\n",
       " 'Rectangle7',\n",
       " 'TransmonPad1_finger',\n",
       " 'TransmonPad2',\n",
       " 'TranmonPad2_finger',\n",
       " 'TransmonPad1',\n",
       " 'line_jj1']"
      ]
     },
     "execution_count": 7,
     "metadata": {},
     "output_type": "execute_result"
    }
   ],
   "source": [
    "pinfo.get_all_object_names()"
   ]
  },
  {
   "cell_type": "markdown",
   "metadata": {},
   "source": [
    "Let's see what variables there are in the design. "
   ]
  },
  {
   "cell_type": "code",
   "execution_count": 18,
   "metadata": {},
   "outputs": [
    {
     "data": {
      "text/plain": [
       "['$sappTand',\n",
       " '$boxZ',\n",
       " '$cavityHeight',\n",
       " '$boxY',\n",
       " '$boxX',\n",
       " '$boxHeight',\n",
       " '$coaxRad',\n",
       " '$coaxHeight',\n",
       " '$port2Len',\n",
       " '$portLen',\n",
       " '$coaxOffset',\n",
       " '$port2offset',\n",
       " '$port1Offset',\n",
       " '$pin2len',\n",
       " '$pin1len',\n",
       " '$cavityRadius',\n",
       " '$rodOffset',\n",
       " '$rodRad',\n",
       " '$qubitHole',\n",
       " '$qubSapZ',\n",
       " '$qubSapThick',\n",
       " '$qubitCentDist',\n",
       " '$padHeight',\n",
       " '$padLen',\n",
       " '$fingerHeight',\n",
       " '$fingerLen',\n",
       " '$junctionLen',\n",
       " '$LJ',\n",
       " '$qubHoleOffset',\n",
       " '$portRadius',\n",
       " 'cavityRadius',\n",
       " 'cavityHeight',\n",
       " 'coaxRad',\n",
       " 'coaxHeight',\n",
       " 'qubSapThick',\n",
       " 'qubSapZ',\n",
       " 'qubHoleOffset',\n",
       " 'qubitHole',\n",
       " 'qubitCentDist',\n",
       " 'fingerLen',\n",
       " 'junctionLen',\n",
       " 'fingerHeight',\n",
       " 'padHeight',\n",
       " 'padLen',\n",
       " 'LJ',\n",
       " 'smallfingerlen',\n",
       " 'smallfingerheight',\n",
       " 'actualJunctionLen',\n",
       " 'actualJunctionHeight',\n",
       " 'rodOffset',\n",
       " 'rodRad',\n",
       " 'padHeight2',\n",
       " 'pin2Len',\n",
       " 'pin1Len',\n",
       " 'cavitySep',\n",
       " 'CenterOffset',\n",
       " 'coaxHeightStorage',\n",
       " 'PinHoleRadius',\n",
       " 'PinPos',\n",
       " 'pinStorageLen',\n",
       " 'SMAPinRadius',\n",
       " 'RO_elevated',\n",
       " 'HoleDepth',\n",
       " 'PadOffset',\n",
       " 'ROpin2Len']"
      ]
     },
     "execution_count": 18,
     "metadata": {},
     "output_type": "execute_result"
    }
   ],
   "source": [
    "pinfo.get_all_variables_names()"
   ]
  },
  {
   "cell_type": "markdown",
   "metadata": {},
   "source": [
    "We can also get the names of the setups"
   ]
  },
  {
   "cell_type": "code",
   "execution_count": 9,
   "metadata": {},
   "outputs": [
    {
     "data": {
      "text/plain": [
       "('Setup1',)"
      ]
     },
     "execution_count": 9,
     "metadata": {},
     "output_type": "execute_result"
    }
   ],
   "source": [
    "pinfo.design.get_setup_names()"
   ]
  },
  {
   "cell_type": "markdown",
   "metadata": {},
   "source": [
    "We can also get information such as mesh statistic and convergence (if you have already solved the model)"
   ]
  },
  {
   "cell_type": "code",
   "execution_count": 10,
   "metadata": {},
   "outputs": [
    {
     "name": "stdout",
     "output_type": "stream",
     "text": [
      "ERROR in MESH reading operation.\n",
      "No columns to parse from file\n",
      "ERROR!  Error in trying to read temporary MESH file C:\\Users\\LEHNER~2\\AppData\\Local\\Temp\\tmp1u592p4q\n",
      ". Check to see if there is a mesh available for this current variation.                   If the nominal design is not solved, it will not have a mesh.,                    but will show up as a variation.\n"
     ]
    }
   ],
   "source": [
    "pinfo.setup.get_mesh_stats()"
   ]
  },
  {
   "cell_type": "markdown",
   "metadata": {},
   "source": [
    "We can also see how many modes we solved for"
   ]
  },
  {
   "cell_type": "code",
   "execution_count": 11,
   "metadata": {},
   "outputs": [
    {
     "data": {
      "text/plain": [
       "'5'"
      ]
     },
     "execution_count": 11,
     "metadata": {},
     "output_type": "execute_result"
    }
   ],
   "source": [
    "pinfo.setup.n_modes"
   ]
  },
  {
   "cell_type": "markdown",
   "metadata": {},
   "source": [
    "##  <div style=\"background:#BBFABB;line-height:2em;\"> Josephson tunnel junctions (non-linear elemetns) </div>\n",
    "\n",
    "To analysze the quantum part of the model, let us specify the junctions in the model. \n",
    "\n",
    "The junciton is defined as described in the paper and on the landing page of pyEPR. There is a rectangle sheet inductance and a polyline that defines the current and voltage on the sheet.  \n",
    "\n",
    "Let us call the single junction `j1`. A junction has the following properties:\n",
    "\n",
    "  1. **Lj_variable** : Name of HFSS variable that specifies junction inductance Lj defined on the boundary condition in HFSS\n",
    "  2. **rect**        : Name of HFSS rectangle on which lumped boundary condition is specified.\n",
    "  3. **line**        : Name of HFSS polyline which spans the length of the recntalge. Used to define the voltage across the junction. \n",
    "  4. **Cj_variable** : (Optional) Name of HFSS variable that specifies junction lumped capacitance Cj defined on the boundary condition in HFSS. This is optional."
   ]
  },
  {
   "cell_type": "code",
   "execution_count": 6,
   "metadata": {},
   "outputs": [],
   "source": [
    "pinfo.junctions['j1'] = {'Lj_variable' : 'LJ', \n",
    "                         'rect'        : 'rect_jj1', \n",
    "                         'line'        : 'line_jj1', \n",
    "                         'length'      : epr.parse_units('10um')}\n",
    "\n",
    "\n",
    "# Check that valid names of variables and objects have been supplied.\n",
    "# An error is raised with a message if something is wrong.\n",
    "pinfo.validate_junction_info()  "
   ]
  },
  {
   "cell_type": "markdown",
   "metadata": {},
   "source": [
    "## <div style=\"background:#BBFABB;line-height:2em;\">Micrwoave Analysis: <br>Run analysis on an eigenmode solution  <div>"
   ]
  },
  {
   "cell_type": "markdown",
   "metadata": {},
   "source": [
    "Assumeing we have field solutions saved for the HFSS *eigenmode* design, we can now create the analysis object from the \n",
    "calss `DistributedAnalysis`.\n",
    "\n",
    "**Run analysis:** (Tutorial action) Run the analysis in the design model. \n",
    "This can be done manually, or using pyEPR."
   ]
  },
  {
   "cell_type": "code",
   "execution_count": 33,
   "metadata": {},
   "outputs": [
    {
     "name": "stderr",
     "output_type": "stream",
     "text": [
      "INFO 02:52PM [analyze]: Analyzing setup Setup1\n"
     ]
    }
   ],
   "source": [
    "# Calling this function will run an analysis of the design in the background. \n",
    "# The console will wait for HFSS to complete.\n",
    "pinfo.setup.analyze()"
   ]
  },
  {
   "cell_type": "markdown",
   "metadata": {},
   "source": [
    "**Run optimetrics**"
   ]
  },
  {
   "cell_type": "markdown",
   "metadata": {},
   "source": [
    "The following will get the frequencies and Qs from HFSS. "
   ]
  },
  {
   "cell_type": "code",
   "execution_count": 8,
   "metadata": {},
   "outputs": [],
   "source": [
    "# Calling this function will run an analysis on all the optimetrics  the design in the background. \n",
    "# The console will wait for HFSS to complete.\n",
    "# This requires optimetrics license by HFSS. \n",
    "pinfo.design.optimetrics.solve_setup(pinfo.design.optimetrics.get_setup_names()[0])"
   ]
  },
  {
   "cell_type": "markdown",
   "metadata": {},
   "source": [
    "**EPR Analysis object**\n",
    "\n",
    "Let us introduce the core analysis object of `pyEPR`, which will be a class instance of `epr.DistributedAnalysis`. This is how we will run most of our analysis.\n",
    "\n",
    "Let us recover the eigenmode frequencies of the first variation we ran, which is indexed by '0'."
   ]
  },
  {
   "cell_type": "code",
   "execution_count": 25,
   "metadata": {},
   "outputs": [
    {
     "name": "stderr",
     "output_type": "stream",
     "text": [
      "ERROR 09:55AM [setup_data]: WARNING!   DESIGN FILENAME MAY BE TOO LONG! \n"
     ]
    },
    {
     "name": "stdout",
     "output_type": "stream",
     "text": [
      "Design \"L Two Post Memory with a sapphire rod_eigenmode_gen6\" info:\n",
      "\t# eigenmodes    4\n",
      "\t# variations    9\n"
     ]
    }
   ],
   "source": [
    "# This is the core object for interacting with HFSS\n",
    "# and running analysis within HFSS.\n",
    "eprh = epr.DistributedAnalysis(pinfo) # epr hfss analysis "
   ]
  },
  {
   "cell_type": "code",
   "execution_count": 26,
   "metadata": {},
   "outputs": [
    {
     "data": {
      "text/html": [
       "<div>\n",
       "<style scoped>\n",
       "    .dataframe tbody tr th:only-of-type {\n",
       "        vertical-align: middle;\n",
       "    }\n",
       "\n",
       "    .dataframe tbody tr th {\n",
       "        vertical-align: top;\n",
       "    }\n",
       "\n",
       "    .dataframe thead th {\n",
       "        text-align: right;\n",
       "    }\n",
       "</style>\n",
       "<table border=\"1\" class=\"dataframe\">\n",
       "  <thead>\n",
       "    <tr style=\"text-align: right;\">\n",
       "      <th>variation</th>\n",
       "      <th>0</th>\n",
       "      <th>1</th>\n",
       "      <th>2</th>\n",
       "      <th>3</th>\n",
       "      <th>4</th>\n",
       "      <th>5</th>\n",
       "      <th>6</th>\n",
       "      <th>7</th>\n",
       "      <th>8</th>\n",
       "    </tr>\n",
       "  </thead>\n",
       "  <tbody>\n",
       "    <tr>\n",
       "      <th>$boxHeight</th>\n",
       "      <td>200mm</td>\n",
       "      <td>200mm</td>\n",
       "      <td>200mm</td>\n",
       "      <td>200mm</td>\n",
       "      <td>200mm</td>\n",
       "      <td>200mm</td>\n",
       "      <td>200mm</td>\n",
       "      <td>200mm</td>\n",
       "      <td>200mm</td>\n",
       "    </tr>\n",
       "    <tr>\n",
       "      <th>$boxX</th>\n",
       "      <td>30mm</td>\n",
       "      <td>30mm</td>\n",
       "      <td>30mm</td>\n",
       "      <td>30mm</td>\n",
       "      <td>30mm</td>\n",
       "      <td>30mm</td>\n",
       "      <td>30mm</td>\n",
       "      <td>30mm</td>\n",
       "      <td>30mm</td>\n",
       "    </tr>\n",
       "    <tr>\n",
       "      <th>$boxY</th>\n",
       "      <td>30mm</td>\n",
       "      <td>30mm</td>\n",
       "      <td>30mm</td>\n",
       "      <td>30mm</td>\n",
       "      <td>30mm</td>\n",
       "      <td>30mm</td>\n",
       "      <td>30mm</td>\n",
       "      <td>30mm</td>\n",
       "      <td>30mm</td>\n",
       "    </tr>\n",
       "    <tr>\n",
       "      <th>$boxZ</th>\n",
       "      <td>80mm</td>\n",
       "      <td>80mm</td>\n",
       "      <td>80mm</td>\n",
       "      <td>80mm</td>\n",
       "      <td>80mm</td>\n",
       "      <td>80mm</td>\n",
       "      <td>80mm</td>\n",
       "      <td>80mm</td>\n",
       "      <td>80mm</td>\n",
       "    </tr>\n",
       "    <tr>\n",
       "      <th>$cavityHeight</th>\n",
       "      <td>40mm</td>\n",
       "      <td>40mm</td>\n",
       "      <td>40mm</td>\n",
       "      <td>40mm</td>\n",
       "      <td>40mm</td>\n",
       "      <td>40mm</td>\n",
       "      <td>40mm</td>\n",
       "      <td>40mm</td>\n",
       "      <td>40mm</td>\n",
       "    </tr>\n",
       "    <tr>\n",
       "      <th>...</th>\n",
       "      <td>...</td>\n",
       "      <td>...</td>\n",
       "      <td>...</td>\n",
       "      <td>...</td>\n",
       "      <td>...</td>\n",
       "      <td>...</td>\n",
       "      <td>...</td>\n",
       "      <td>...</td>\n",
       "      <td>...</td>\n",
       "    </tr>\n",
       "    <tr>\n",
       "      <th>rodRad</th>\n",
       "      <td>2mm</td>\n",
       "      <td>2mm</td>\n",
       "      <td>2mm</td>\n",
       "      <td>2mm</td>\n",
       "      <td>2mm</td>\n",
       "      <td>2mm</td>\n",
       "      <td>2mm</td>\n",
       "      <td>2mm</td>\n",
       "      <td>2mm</td>\n",
       "    </tr>\n",
       "    <tr>\n",
       "      <th>ROpin2Len</th>\n",
       "      <td>9.2599999999999998mm</td>\n",
       "      <td>9.2599999999999998mm</td>\n",
       "      <td>9.2599999999999998mm</td>\n",
       "      <td>9.9250000000000007mm</td>\n",
       "      <td>9.9250000000000007mm</td>\n",
       "      <td>9.9250000000000007mm</td>\n",
       "      <td>9.9250000000000007mm</td>\n",
       "      <td>9.9250000000000007mm</td>\n",
       "      <td>9.9250000000000007mm</td>\n",
       "    </tr>\n",
       "    <tr>\n",
       "      <th>smallfingerheight</th>\n",
       "      <td>0.0001mm</td>\n",
       "      <td>0.0001mm</td>\n",
       "      <td>0.0001mm</td>\n",
       "      <td>0.0001mm</td>\n",
       "      <td>0.0001mm</td>\n",
       "      <td>0.0001mm</td>\n",
       "      <td>0.0001mm</td>\n",
       "      <td>0.0001mm</td>\n",
       "      <td>0.0001mm</td>\n",
       "    </tr>\n",
       "    <tr>\n",
       "      <th>smallfingerlen</th>\n",
       "      <td>0.0024499999999999999mm</td>\n",
       "      <td>0.0024499999999999999mm</td>\n",
       "      <td>0.0024499999999999999mm</td>\n",
       "      <td>0.0024499999999999999mm</td>\n",
       "      <td>0.0024499999999999999mm</td>\n",
       "      <td>0.0024499999999999999mm</td>\n",
       "      <td>0.0024499999999999999mm</td>\n",
       "      <td>0.0024499999999999999mm</td>\n",
       "      <td>0.0024499999999999999mm</td>\n",
       "    </tr>\n",
       "    <tr>\n",
       "      <th>SMAPinRadius</th>\n",
       "      <td>0.25mm</td>\n",
       "      <td>0.25mm</td>\n",
       "      <td>0.25mm</td>\n",
       "      <td>0.25mm</td>\n",
       "      <td>0.25mm</td>\n",
       "      <td>0.25mm</td>\n",
       "      <td>0.25mm</td>\n",
       "      <td>0.25mm</td>\n",
       "      <td>0.25mm</td>\n",
       "    </tr>\n",
       "  </tbody>\n",
       "</table>\n",
       "<p>65 rows × 9 columns</p>\n",
       "</div>"
      ],
      "text/plain": [
       "variation                                0                        1  \\\n",
       "$boxHeight                           200mm                    200mm   \n",
       "$boxX                                 30mm                     30mm   \n",
       "$boxY                                 30mm                     30mm   \n",
       "$boxZ                                 80mm                     80mm   \n",
       "$cavityHeight                         40mm                     40mm   \n",
       "...                                    ...                      ...   \n",
       "rodRad                                 2mm                      2mm   \n",
       "ROpin2Len             9.2599999999999998mm     9.2599999999999998mm   \n",
       "smallfingerheight                 0.0001mm                 0.0001mm   \n",
       "smallfingerlen     0.0024499999999999999mm  0.0024499999999999999mm   \n",
       "SMAPinRadius                        0.25mm                   0.25mm   \n",
       "\n",
       "variation                                2                        3  \\\n",
       "$boxHeight                           200mm                    200mm   \n",
       "$boxX                                 30mm                     30mm   \n",
       "$boxY                                 30mm                     30mm   \n",
       "$boxZ                                 80mm                     80mm   \n",
       "$cavityHeight                         40mm                     40mm   \n",
       "...                                    ...                      ...   \n",
       "rodRad                                 2mm                      2mm   \n",
       "ROpin2Len             9.2599999999999998mm     9.9250000000000007mm   \n",
       "smallfingerheight                 0.0001mm                 0.0001mm   \n",
       "smallfingerlen     0.0024499999999999999mm  0.0024499999999999999mm   \n",
       "SMAPinRadius                        0.25mm                   0.25mm   \n",
       "\n",
       "variation                                4                        5  \\\n",
       "$boxHeight                           200mm                    200mm   \n",
       "$boxX                                 30mm                     30mm   \n",
       "$boxY                                 30mm                     30mm   \n",
       "$boxZ                                 80mm                     80mm   \n",
       "$cavityHeight                         40mm                     40mm   \n",
       "...                                    ...                      ...   \n",
       "rodRad                                 2mm                      2mm   \n",
       "ROpin2Len             9.9250000000000007mm     9.9250000000000007mm   \n",
       "smallfingerheight                 0.0001mm                 0.0001mm   \n",
       "smallfingerlen     0.0024499999999999999mm  0.0024499999999999999mm   \n",
       "SMAPinRadius                        0.25mm                   0.25mm   \n",
       "\n",
       "variation                                6                        7  \\\n",
       "$boxHeight                           200mm                    200mm   \n",
       "$boxX                                 30mm                     30mm   \n",
       "$boxY                                 30mm                     30mm   \n",
       "$boxZ                                 80mm                     80mm   \n",
       "$cavityHeight                         40mm                     40mm   \n",
       "...                                    ...                      ...   \n",
       "rodRad                                 2mm                      2mm   \n",
       "ROpin2Len             9.9250000000000007mm     9.9250000000000007mm   \n",
       "smallfingerheight                 0.0001mm                 0.0001mm   \n",
       "smallfingerlen     0.0024499999999999999mm  0.0024499999999999999mm   \n",
       "SMAPinRadius                        0.25mm                   0.25mm   \n",
       "\n",
       "variation                                8  \n",
       "$boxHeight                           200mm  \n",
       "$boxX                                 30mm  \n",
       "$boxY                                 30mm  \n",
       "$boxZ                                 80mm  \n",
       "$cavityHeight                         40mm  \n",
       "...                                    ...  \n",
       "rodRad                                 2mm  \n",
       "ROpin2Len             9.9250000000000007mm  \n",
       "smallfingerheight                 0.0001mm  \n",
       "smallfingerlen     0.0024499999999999999mm  \n",
       "SMAPinRadius                        0.25mm  \n",
       "\n",
       "[65 rows x 9 columns]"
      ]
     },
     "execution_count": 26,
     "metadata": {},
     "output_type": "execute_result"
    }
   ],
   "source": [
    "eprh.get_ansys_variables()"
   ]
  },
  {
   "cell_type": "code",
   "execution_count": 42,
   "metadata": {},
   "outputs": [
    {
     "data": {
      "text/html": [
       "<div>\n",
       "<style scoped>\n",
       "    .dataframe tbody tr th:only-of-type {\n",
       "        vertical-align: middle;\n",
       "    }\n",
       "\n",
       "    .dataframe tbody tr th {\n",
       "        vertical-align: top;\n",
       "    }\n",
       "\n",
       "    .dataframe thead th {\n",
       "        text-align: right;\n",
       "    }\n",
       "</style>\n",
       "<table border=\"1\" class=\"dataframe\">\n",
       "  <thead>\n",
       "    <tr style=\"text-align: right;\">\n",
       "      <th></th>\n",
       "      <th></th>\n",
       "      <th>Freq. (GHz)</th>\n",
       "      <th>Quality Factor</th>\n",
       "    </tr>\n",
       "    <tr>\n",
       "      <th>variation</th>\n",
       "      <th>mode</th>\n",
       "      <th></th>\n",
       "      <th></th>\n",
       "    </tr>\n",
       "  </thead>\n",
       "  <tbody>\n",
       "    <tr>\n",
       "      <th rowspan=\"4\" valign=\"top\">0</th>\n",
       "      <th>0</th>\n",
       "      <td>4.116910</td>\n",
       "      <td>9.205410e+04</td>\n",
       "    </tr>\n",
       "    <tr>\n",
       "      <th>1</th>\n",
       "      <td>5.009092</td>\n",
       "      <td>1.042696e+07</td>\n",
       "    </tr>\n",
       "    <tr>\n",
       "      <th>2</th>\n",
       "      <td>5.540598</td>\n",
       "      <td>2.249930e+04</td>\n",
       "    </tr>\n",
       "    <tr>\n",
       "      <th>3</th>\n",
       "      <td>10.101725</td>\n",
       "      <td>7.011987e-01</td>\n",
       "    </tr>\n",
       "    <tr>\n",
       "      <th rowspan=\"4\" valign=\"top\">1</th>\n",
       "      <th>0</th>\n",
       "      <td>4.076693</td>\n",
       "      <td>5.251373e+04</td>\n",
       "    </tr>\n",
       "    <tr>\n",
       "      <th>1</th>\n",
       "      <td>5.025865</td>\n",
       "      <td>2.025824e+07</td>\n",
       "    </tr>\n",
       "    <tr>\n",
       "      <th>2</th>\n",
       "      <td>5.538341</td>\n",
       "      <td>2.237259e+04</td>\n",
       "    </tr>\n",
       "    <tr>\n",
       "      <th>3</th>\n",
       "      <td>9.735619</td>\n",
       "      <td>7.076165e-01</td>\n",
       "    </tr>\n",
       "    <tr>\n",
       "      <th rowspan=\"4\" valign=\"top\">2</th>\n",
       "      <th>0</th>\n",
       "      <td>4.105530</td>\n",
       "      <td>6.444916e+04</td>\n",
       "    </tr>\n",
       "    <tr>\n",
       "      <th>1</th>\n",
       "      <td>5.020203</td>\n",
       "      <td>1.365247e+07</td>\n",
       "    </tr>\n",
       "    <tr>\n",
       "      <th>2</th>\n",
       "      <td>5.541215</td>\n",
       "      <td>2.236064e+04</td>\n",
       "    </tr>\n",
       "    <tr>\n",
       "      <th>3</th>\n",
       "      <td>10.103207</td>\n",
       "      <td>6.976043e-01</td>\n",
       "    </tr>\n",
       "    <tr>\n",
       "      <th rowspan=\"4\" valign=\"top\">3</th>\n",
       "      <th>0</th>\n",
       "      <td>4.105618</td>\n",
       "      <td>1.939012e+05</td>\n",
       "    </tr>\n",
       "    <tr>\n",
       "      <th>1</th>\n",
       "      <td>5.041352</td>\n",
       "      <td>7.302408e+07</td>\n",
       "    </tr>\n",
       "    <tr>\n",
       "      <th>2</th>\n",
       "      <td>5.537247</td>\n",
       "      <td>5.373393e+03</td>\n",
       "    </tr>\n",
       "    <tr>\n",
       "      <th>3</th>\n",
       "      <td>9.513558</td>\n",
       "      <td>7.020074e-01</td>\n",
       "    </tr>\n",
       "    <tr>\n",
       "      <th rowspan=\"4\" valign=\"top\">4</th>\n",
       "      <th>0</th>\n",
       "      <td>4.109785</td>\n",
       "      <td>3.129096e+05</td>\n",
       "    </tr>\n",
       "    <tr>\n",
       "      <th>1</th>\n",
       "      <td>5.038662</td>\n",
       "      <td>6.226905e+07</td>\n",
       "    </tr>\n",
       "    <tr>\n",
       "      <th>2</th>\n",
       "      <td>5.538893</td>\n",
       "      <td>5.384284e+03</td>\n",
       "    </tr>\n",
       "    <tr>\n",
       "      <th>3</th>\n",
       "      <td>9.579733</td>\n",
       "      <td>6.879430e-01</td>\n",
       "    </tr>\n",
       "    <tr>\n",
       "      <th rowspan=\"4\" valign=\"top\">5</th>\n",
       "      <th>0</th>\n",
       "      <td>4.073851</td>\n",
       "      <td>1.170440e+05</td>\n",
       "    </tr>\n",
       "    <tr>\n",
       "      <th>1</th>\n",
       "      <td>5.042071</td>\n",
       "      <td>5.440573e+07</td>\n",
       "    </tr>\n",
       "    <tr>\n",
       "      <th>2</th>\n",
       "      <td>5.533731</td>\n",
       "      <td>5.312252e+03</td>\n",
       "    </tr>\n",
       "    <tr>\n",
       "      <th>3</th>\n",
       "      <td>9.099032</td>\n",
       "      <td>6.902466e-01</td>\n",
       "    </tr>\n",
       "    <tr>\n",
       "      <th rowspan=\"4\" valign=\"top\">6</th>\n",
       "      <th>0</th>\n",
       "      <td>4.084230</td>\n",
       "      <td>7.375546e+04</td>\n",
       "    </tr>\n",
       "    <tr>\n",
       "      <th>1</th>\n",
       "      <td>5.043136</td>\n",
       "      <td>5.056163e+07</td>\n",
       "    </tr>\n",
       "    <tr>\n",
       "      <th>2</th>\n",
       "      <td>5.534660</td>\n",
       "      <td>5.333755e+03</td>\n",
       "    </tr>\n",
       "    <tr>\n",
       "      <th>3</th>\n",
       "      <td>9.153555</td>\n",
       "      <td>6.933764e-01</td>\n",
       "    </tr>\n",
       "    <tr>\n",
       "      <th rowspan=\"4\" valign=\"top\">7</th>\n",
       "      <th>0</th>\n",
       "      <td>4.112594</td>\n",
       "      <td>1.705162e+05</td>\n",
       "    </tr>\n",
       "    <tr>\n",
       "      <th>1</th>\n",
       "      <td>5.039098</td>\n",
       "      <td>3.621133e+07</td>\n",
       "    </tr>\n",
       "    <tr>\n",
       "      <th>2</th>\n",
       "      <td>5.538337</td>\n",
       "      <td>5.390617e+03</td>\n",
       "    </tr>\n",
       "    <tr>\n",
       "      <th>3</th>\n",
       "      <td>9.565070</td>\n",
       "      <td>6.912275e-01</td>\n",
       "    </tr>\n",
       "    <tr>\n",
       "      <th rowspan=\"4\" valign=\"top\">8</th>\n",
       "      <th>0</th>\n",
       "      <td>4.117188</td>\n",
       "      <td>1.003743e+05</td>\n",
       "    </tr>\n",
       "    <tr>\n",
       "      <th>1</th>\n",
       "      <td>5.043234</td>\n",
       "      <td>4.165999e+07</td>\n",
       "    </tr>\n",
       "    <tr>\n",
       "      <th>2</th>\n",
       "      <td>5.539517</td>\n",
       "      <td>5.393830e+03</td>\n",
       "    </tr>\n",
       "    <tr>\n",
       "      <th>3</th>\n",
       "      <td>9.541019</td>\n",
       "      <td>6.909303e-01</td>\n",
       "    </tr>\n",
       "  </tbody>\n",
       "</table>\n",
       "</div>"
      ],
      "text/plain": [
       "                Freq. (GHz)  Quality Factor\n",
       "variation mode                             \n",
       "0         0        4.116910    9.205410e+04\n",
       "          1        5.009092    1.042696e+07\n",
       "          2        5.540598    2.249930e+04\n",
       "          3       10.101725    7.011987e-01\n",
       "1         0        4.076693    5.251373e+04\n",
       "          1        5.025865    2.025824e+07\n",
       "          2        5.538341    2.237259e+04\n",
       "          3        9.735619    7.076165e-01\n",
       "2         0        4.105530    6.444916e+04\n",
       "          1        5.020203    1.365247e+07\n",
       "          2        5.541215    2.236064e+04\n",
       "          3       10.103207    6.976043e-01\n",
       "3         0        4.105618    1.939012e+05\n",
       "          1        5.041352    7.302408e+07\n",
       "          2        5.537247    5.373393e+03\n",
       "          3        9.513558    7.020074e-01\n",
       "4         0        4.109785    3.129096e+05\n",
       "          1        5.038662    6.226905e+07\n",
       "          2        5.538893    5.384284e+03\n",
       "          3        9.579733    6.879430e-01\n",
       "5         0        4.073851    1.170440e+05\n",
       "          1        5.042071    5.440573e+07\n",
       "          2        5.533731    5.312252e+03\n",
       "          3        9.099032    6.902466e-01\n",
       "6         0        4.084230    7.375546e+04\n",
       "          1        5.043136    5.056163e+07\n",
       "          2        5.534660    5.333755e+03\n",
       "          3        9.153555    6.933764e-01\n",
       "7         0        4.112594    1.705162e+05\n",
       "          1        5.039098    3.621133e+07\n",
       "          2        5.538337    5.390617e+03\n",
       "          3        9.565070    6.912275e-01\n",
       "8         0        4.117188    1.003743e+05\n",
       "          1        5.043234    4.165999e+07\n",
       "          2        5.539517    5.393830e+03\n",
       "          3        9.541019    6.909303e-01"
      ]
     },
     "execution_count": 42,
     "metadata": {},
     "output_type": "execute_result"
    }
   ],
   "source": [
    "eprh.get_ansys_frequencies_all()"
   ]
  },
  {
   "cell_type": "code",
   "execution_count": 11,
   "metadata": {
    "scrolled": true
   },
   "outputs": [
    {
     "name": "stderr",
     "output_type": "stream",
     "text": [
      "INFO 06:44PM [hfss_report_full_convergence]: Creating report for variation 0\n",
      "C:\\Miniconda\\envs\\virenv\\lib\\site-packages\\pyEPR\\ansys.py:1225: FutureWarning: In a future version of pandas all arguments of DataFrame.drop except for the argument 'labels' will be keyword-only\n",
      "  index_col=0).drop('Unnamed: 3', 1)\n",
      "INFO 06:44PM [hfss_report_f_convergence]: Saved convergences to C:\\data-pyEPR\\DualCavity\\L Two Post Memory with a sapphire rod_eigenmode_gen6\\hfss_eig_f_convergence.csv\n"
     ]
    },
    {
     "data": {
      "image/png": "[encoded data removed]",
      "text/plain": [
       "<Figure size 792x216 with 4 Axes>"
      ]
     },
     "metadata": {},
     "output_type": "display_data"
    },
    {
     "name": "stderr",
     "output_type": "stream",
     "text": [
      "INFO 06:44PM [hfss_report_full_convergence]: Creating report for variation 1\n",
      "C:\\Miniconda\\envs\\virenv\\lib\\site-packages\\pyEPR\\ansys.py:1225: FutureWarning: In a future version of pandas all arguments of DataFrame.drop except for the argument 'labels' will be keyword-only\n",
      "  index_col=0).drop('Unnamed: 3', 1)\n",
      "INFO 06:44PM [hfss_report_f_convergence]: Saved convergences to C:\\data-pyEPR\\DualCavity\\L Two Post Memory with a sapphire rod_eigenmode_gen6\\hfss_eig_f_convergence.csv\n"
     ]
    },
    {
     "data": {
      "image/png": "[encoded data removed]",
      "text/plain": [
       "<Figure size 792x216 with 4 Axes>"
      ]
     },
     "metadata": {},
     "output_type": "display_data"
    },
    {
     "name": "stderr",
     "output_type": "stream",
     "text": [
      "INFO 06:44PM [hfss_report_full_convergence]: Creating report for variation 2\n",
      "C:\\Miniconda\\envs\\virenv\\lib\\site-packages\\pyEPR\\ansys.py:1225: FutureWarning: In a future version of pandas all arguments of DataFrame.drop except for the argument 'labels' will be keyword-only\n",
      "  index_col=0).drop('Unnamed: 3', 1)\n",
      "INFO 06:44PM [hfss_report_f_convergence]: Saved convergences to C:\\data-pyEPR\\DualCavity\\L Two Post Memory with a sapphire rod_eigenmode_gen6\\hfss_eig_f_convergence.csv\n"
     ]
    },
    {
     "data": {
      "image/png": "[encoded data removed]",
      "text/plain": [
       "<Figure size 792x216 with 4 Axes>"
      ]
     },
     "metadata": {},
     "output_type": "display_data"
    },
    {
     "name": "stderr",
     "output_type": "stream",
     "text": [
      "INFO 06:44PM [hfss_report_full_convergence]: Creating report for variation 3\n",
      "C:\\Miniconda\\envs\\virenv\\lib\\site-packages\\pyEPR\\ansys.py:1225: FutureWarning: In a future version of pandas all arguments of DataFrame.drop except for the argument 'labels' will be keyword-only\n",
      "  index_col=0).drop('Unnamed: 3', 1)\n",
      "INFO 06:44PM [hfss_report_f_convergence]: Saved convergences to C:\\data-pyEPR\\DualCavity\\L Two Post Memory with a sapphire rod_eigenmode_gen6\\hfss_eig_f_convergence.csv\n"
     ]
    },
    {
     "data": {
      "image/png": "[encoded data removed]",
      "text/plain": [
       "<Figure size 792x216 with 4 Axes>"
      ]
     },
     "metadata": {},
     "output_type": "display_data"
    },
    {
     "name": "stderr",
     "output_type": "stream",
     "text": [
      "INFO 06:44PM [hfss_report_full_convergence]: Creating report for variation 4\n",
      "C:\\Miniconda\\envs\\virenv\\lib\\site-packages\\pyEPR\\ansys.py:1225: FutureWarning: In a future version of pandas all arguments of DataFrame.drop except for the argument 'labels' will be keyword-only\n",
      "  index_col=0).drop('Unnamed: 3', 1)\n",
      "INFO 06:44PM [hfss_report_f_convergence]: Saved convergences to C:\\data-pyEPR\\DualCavity\\L Two Post Memory with a sapphire rod_eigenmode_gen6\\hfss_eig_f_convergence.csv\n"
     ]
    },
    {
     "data": {
      "image/png": "[encoded data removed]",
      "text/plain": [
       "<Figure size 792x216 with 4 Axes>"
      ]
     },
     "metadata": {},
     "output_type": "display_data"
    },
    {
     "name": "stderr",
     "output_type": "stream",
     "text": [
      "INFO 06:44PM [hfss_report_full_convergence]: Creating report for variation 5\n",
      "C:\\Miniconda\\envs\\virenv\\lib\\site-packages\\pyEPR\\ansys.py:1225: FutureWarning: In a future version of pandas all arguments of DataFrame.drop except for the argument 'labels' will be keyword-only\n",
      "  index_col=0).drop('Unnamed: 3', 1)\n",
      "INFO 06:44PM [hfss_report_f_convergence]: Saved convergences to C:\\data-pyEPR\\DualCavity\\L Two Post Memory with a sapphire rod_eigenmode_gen6\\hfss_eig_f_convergence.csv\n"
     ]
    },
    {
     "data": {
      "image/png": "[encoded data removed]",
      "text/plain": [
       "<Figure size 792x216 with 4 Axes>"
      ]
     },
     "metadata": {},
     "output_type": "display_data"
    },
    {
     "data": {
      "image/png": "[encoded data removed]",
      "text/plain": [
       "<Figure size 792x216 with 4 Axes>"
      ]
     },
     "metadata": {
      "needs_background": "light"
     },
     "output_type": "display_data"
    }
   ],
   "source": [
    "eprh.hfss_report_full_convergence();"
   ]
  },
  {
   "cell_type": "markdown",
   "metadata": {},
   "source": [
    "We can see that the convergence wasn't actually terrific, though we only used 60,000 tets. However, there seems to be a divergence above 15 passes in this example. We will probably need to change our mesh operations to create a monotonic convergence.\n",
    "\n",
    "However, for the purpose of the tutorial, let us press forward. \n",
    "\n",
    "You can use these autogenerated reports to keep track of your simulations.\n",
    "This is still all at the clasical level. Take a look at the other methods, including\n",
    " * `hfss_report_full_convergence`\n",
    " * `hfss_report_f_convergence`\n",
    " * `get_convergence`\n",
    " * `get_mesh_statistics`\n",
    " * `get_freqs_bare_pd`\n",
    " * ...\n",
    " \n",
    "For example, you can get tables of the freqs and Qs using \n",
    "```python\n",
    "Fs, Qs = eprh.get_freqs_bare_pd(variation='0')\n",
    "```"
   ]
  },
  {
   "cell_type": "code",
   "execution_count": 41,
   "metadata": {
    "scrolled": false
   },
   "outputs": [
    {
     "data": {
      "text/html": [
       "<div>\n",
       "<style scoped>\n",
       "    .dataframe tbody tr th:only-of-type {\n",
       "        vertical-align: middle;\n",
       "    }\n",
       "\n",
       "    .dataframe tbody tr th {\n",
       "        vertical-align: top;\n",
       "    }\n",
       "\n",
       "    .dataframe thead th {\n",
       "        text-align: right;\n",
       "    }\n",
       "</style>\n",
       "<table border=\"1\" class=\"dataframe\">\n",
       "  <thead>\n",
       "    <tr style=\"text-align: right;\">\n",
       "      <th></th>\n",
       "      <th>Freq. (GHz)</th>\n",
       "      <th>Quality Factor</th>\n",
       "    </tr>\n",
       "  </thead>\n",
       "  <tbody>\n",
       "    <tr>\n",
       "      <th>0</th>\n",
       "      <td>4.105618</td>\n",
       "      <td>1.939012e+05</td>\n",
       "    </tr>\n",
       "    <tr>\n",
       "      <th>1</th>\n",
       "      <td>5.041352</td>\n",
       "      <td>7.302408e+07</td>\n",
       "    </tr>\n",
       "    <tr>\n",
       "      <th>2</th>\n",
       "      <td>5.537247</td>\n",
       "      <td>5.373393e+03</td>\n",
       "    </tr>\n",
       "    <tr>\n",
       "      <th>3</th>\n",
       "      <td>9.513558</td>\n",
       "      <td>7.020074e-01</td>\n",
       "    </tr>\n",
       "  </tbody>\n",
       "</table>\n",
       "</div>"
      ],
      "text/plain": [
       "   Freq. (GHz)  Quality Factor\n",
       "0     4.105618    1.939012e+05\n",
       "1     5.041352    7.302408e+07\n",
       "2     5.537247    5.373393e+03\n",
       "3     9.513558    7.020074e-01"
      ]
     },
     "metadata": {},
     "output_type": "display_data"
    },
    {
     "data": {
      "text/html": [
       "<div>\n",
       "<style scoped>\n",
       "    .dataframe tbody tr th:only-of-type {\n",
       "        vertical-align: middle;\n",
       "    }\n",
       "\n",
       "    .dataframe tbody tr th {\n",
       "        vertical-align: top;\n",
       "    }\n",
       "\n",
       "    .dataframe thead th {\n",
       "        text-align: right;\n",
       "    }\n",
       "</style>\n",
       "<table border=\"1\" class=\"dataframe\">\n",
       "  <thead>\n",
       "    <tr style=\"text-align: right;\">\n",
       "      <th></th>\n",
       "      <th>Freq. (GHz)</th>\n",
       "      <th>Quality Factor</th>\n",
       "    </tr>\n",
       "  </thead>\n",
       "  <tbody>\n",
       "    <tr>\n",
       "      <th>0</th>\n",
       "      <td>4.109785</td>\n",
       "      <td>3.129096e+05</td>\n",
       "    </tr>\n",
       "    <tr>\n",
       "      <th>1</th>\n",
       "      <td>5.038662</td>\n",
       "      <td>6.226905e+07</td>\n",
       "    </tr>\n",
       "    <tr>\n",
       "      <th>2</th>\n",
       "      <td>5.538893</td>\n",
       "      <td>5.384284e+03</td>\n",
       "    </tr>\n",
       "    <tr>\n",
       "      <th>3</th>\n",
       "      <td>9.579733</td>\n",
       "      <td>6.879430e-01</td>\n",
       "    </tr>\n",
       "  </tbody>\n",
       "</table>\n",
       "</div>"
      ],
      "text/plain": [
       "   Freq. (GHz)  Quality Factor\n",
       "0     4.109785    3.129096e+05\n",
       "1     5.038662    6.226905e+07\n",
       "2     5.538893    5.384284e+03\n",
       "3     9.579733    6.879430e-01"
      ]
     },
     "metadata": {},
     "output_type": "display_data"
    },
    {
     "data": {
      "text/html": [
       "<div>\n",
       "<style scoped>\n",
       "    .dataframe tbody tr th:only-of-type {\n",
       "        vertical-align: middle;\n",
       "    }\n",
       "\n",
       "    .dataframe tbody tr th {\n",
       "        vertical-align: top;\n",
       "    }\n",
       "\n",
       "    .dataframe thead th {\n",
       "        text-align: right;\n",
       "    }\n",
       "</style>\n",
       "<table border=\"1\" class=\"dataframe\">\n",
       "  <thead>\n",
       "    <tr style=\"text-align: right;\">\n",
       "      <th></th>\n",
       "      <th>Freq. (GHz)</th>\n",
       "      <th>Quality Factor</th>\n",
       "    </tr>\n",
       "  </thead>\n",
       "  <tbody>\n",
       "    <tr>\n",
       "      <th>0</th>\n",
       "      <td>4.073851</td>\n",
       "      <td>1.170440e+05</td>\n",
       "    </tr>\n",
       "    <tr>\n",
       "      <th>1</th>\n",
       "      <td>5.042071</td>\n",
       "      <td>5.440573e+07</td>\n",
       "    </tr>\n",
       "    <tr>\n",
       "      <th>2</th>\n",
       "      <td>5.533731</td>\n",
       "      <td>5.312252e+03</td>\n",
       "    </tr>\n",
       "    <tr>\n",
       "      <th>3</th>\n",
       "      <td>9.099032</td>\n",
       "      <td>6.902466e-01</td>\n",
       "    </tr>\n",
       "  </tbody>\n",
       "</table>\n",
       "</div>"
      ],
      "text/plain": [
       "   Freq. (GHz)  Quality Factor\n",
       "0     4.073851    1.170440e+05\n",
       "1     5.042071    5.440573e+07\n",
       "2     5.533731    5.312252e+03\n",
       "3     9.099032    6.902466e-01"
      ]
     },
     "metadata": {},
     "output_type": "display_data"
    },
    {
     "data": {
      "text/html": [
       "<div>\n",
       "<style scoped>\n",
       "    .dataframe tbody tr th:only-of-type {\n",
       "        vertical-align: middle;\n",
       "    }\n",
       "\n",
       "    .dataframe tbody tr th {\n",
       "        vertical-align: top;\n",
       "    }\n",
       "\n",
       "    .dataframe thead th {\n",
       "        text-align: right;\n",
       "    }\n",
       "</style>\n",
       "<table border=\"1\" class=\"dataframe\">\n",
       "  <thead>\n",
       "    <tr style=\"text-align: right;\">\n",
       "      <th></th>\n",
       "      <th>Freq. (GHz)</th>\n",
       "      <th>Quality Factor</th>\n",
       "    </tr>\n",
       "  </thead>\n",
       "  <tbody>\n",
       "    <tr>\n",
       "      <th>0</th>\n",
       "      <td>4.084230</td>\n",
       "      <td>7.375546e+04</td>\n",
       "    </tr>\n",
       "    <tr>\n",
       "      <th>1</th>\n",
       "      <td>5.043136</td>\n",
       "      <td>5.056163e+07</td>\n",
       "    </tr>\n",
       "    <tr>\n",
       "      <th>2</th>\n",
       "      <td>5.534660</td>\n",
       "      <td>5.333755e+03</td>\n",
       "    </tr>\n",
       "    <tr>\n",
       "      <th>3</th>\n",
       "      <td>9.153555</td>\n",
       "      <td>6.933764e-01</td>\n",
       "    </tr>\n",
       "  </tbody>\n",
       "</table>\n",
       "</div>"
      ],
      "text/plain": [
       "   Freq. (GHz)  Quality Factor\n",
       "0     4.084230    7.375546e+04\n",
       "1     5.043136    5.056163e+07\n",
       "2     5.534660    5.333755e+03\n",
       "3     9.153555    6.933764e-01"
      ]
     },
     "metadata": {},
     "output_type": "display_data"
    },
    {
     "data": {
      "text/html": [
       "<div>\n",
       "<style scoped>\n",
       "    .dataframe tbody tr th:only-of-type {\n",
       "        vertical-align: middle;\n",
       "    }\n",
       "\n",
       "    .dataframe tbody tr th {\n",
       "        vertical-align: top;\n",
       "    }\n",
       "\n",
       "    .dataframe thead th {\n",
       "        text-align: right;\n",
       "    }\n",
       "</style>\n",
       "<table border=\"1\" class=\"dataframe\">\n",
       "  <thead>\n",
       "    <tr style=\"text-align: right;\">\n",
       "      <th></th>\n",
       "      <th>Freq. (GHz)</th>\n",
       "      <th>Quality Factor</th>\n",
       "    </tr>\n",
       "  </thead>\n",
       "  <tbody>\n",
       "    <tr>\n",
       "      <th>0</th>\n",
       "      <td>4.112594</td>\n",
       "      <td>1.705162e+05</td>\n",
       "    </tr>\n",
       "    <tr>\n",
       "      <th>1</th>\n",
       "      <td>5.039098</td>\n",
       "      <td>3.621133e+07</td>\n",
       "    </tr>\n",
       "    <tr>\n",
       "      <th>2</th>\n",
       "      <td>5.538337</td>\n",
       "      <td>5.390617e+03</td>\n",
       "    </tr>\n",
       "    <tr>\n",
       "      <th>3</th>\n",
       "      <td>9.565070</td>\n",
       "      <td>6.912275e-01</td>\n",
       "    </tr>\n",
       "  </tbody>\n",
       "</table>\n",
       "</div>"
      ],
      "text/plain": [
       "   Freq. (GHz)  Quality Factor\n",
       "0     4.112594    1.705162e+05\n",
       "1     5.039098    3.621133e+07\n",
       "2     5.538337    5.390617e+03\n",
       "3     9.565070    6.912275e-01"
      ]
     },
     "metadata": {},
     "output_type": "display_data"
    },
    {
     "data": {
      "text/html": [
       "<div>\n",
       "<style scoped>\n",
       "    .dataframe tbody tr th:only-of-type {\n",
       "        vertical-align: middle;\n",
       "    }\n",
       "\n",
       "    .dataframe tbody tr th {\n",
       "        vertical-align: top;\n",
       "    }\n",
       "\n",
       "    .dataframe thead th {\n",
       "        text-align: right;\n",
       "    }\n",
       "</style>\n",
       "<table border=\"1\" class=\"dataframe\">\n",
       "  <thead>\n",
       "    <tr style=\"text-align: right;\">\n",
       "      <th></th>\n",
       "      <th>Freq. (GHz)</th>\n",
       "      <th>Quality Factor</th>\n",
       "    </tr>\n",
       "  </thead>\n",
       "  <tbody>\n",
       "    <tr>\n",
       "      <th>0</th>\n",
       "      <td>4.117188</td>\n",
       "      <td>1.003743e+05</td>\n",
       "    </tr>\n",
       "    <tr>\n",
       "      <th>1</th>\n",
       "      <td>5.043234</td>\n",
       "      <td>4.165999e+07</td>\n",
       "    </tr>\n",
       "    <tr>\n",
       "      <th>2</th>\n",
       "      <td>5.539517</td>\n",
       "      <td>5.393830e+03</td>\n",
       "    </tr>\n",
       "    <tr>\n",
       "      <th>3</th>\n",
       "      <td>9.541019</td>\n",
       "      <td>6.909303e-01</td>\n",
       "    </tr>\n",
       "  </tbody>\n",
       "</table>\n",
       "</div>"
      ],
      "text/plain": [
       "   Freq. (GHz)  Quality Factor\n",
       "0     4.117188    1.003743e+05\n",
       "1     5.043234    4.165999e+07\n",
       "2     5.539517    5.393830e+03\n",
       "3     9.541019    6.909303e-01"
      ]
     },
     "metadata": {},
     "output_type": "display_data"
    }
   ],
   "source": [
    "import pandas as pd\n",
    "for variation in eprh.variations: # just for the first 2\n",
    "    if float(eprh.get_variables(variation)['_ROpin2Len'].split('m')[0]) ==9.925:\n",
    "        Fs, Qs = eprh.get_freqs_bare_pd(variation=variation, frame=False)\n",
    "        display(pd.DataFrame({'Freq. (GHz)':Fs, 'Quality Factor':Qs}))"
   ]
  },
  {
   "cell_type": "markdown",
   "metadata": {},
   "source": [
    "The Q is infinite, since we have not included dissipation yet in this example. The row index is the mode number"
   ]
  },
  {
   "cell_type": "markdown",
   "metadata": {},
   "source": [
    "####  Full analysis"
   ]
  },
  {
   "cell_type": "markdown",
   "metadata": {},
   "source": [
    "Let's now jump ahead to the full analysis."
   ]
  },
  {
   "cell_type": "code",
   "execution_count": 28,
   "metadata": {
    "scrolled": true
   },
   "outputs": [
    {
     "name": "stdout",
     "output_type": "stream",
     "text": [
      "\n",
      "Variation 0  [1/9]\n",
      "\n",
      "  \u001b[1mMode 0 at 4.12 GHz   [1/4]\u001b[0m\n",
      "    Calculating ℰ_magnetic,ℰ_electric\n",
      "       (ℰ_E-ℰ_H)/ℰ_E       ℰ_E       ℰ_H\n",
      "               92.6%   5.71e-25 4.201e-26\n",
      "\n",
      "    Calculating junction energy participation ration (EPR)\n",
      "\tmethod=`line_voltage`. First estimates:\n",
      "\tjunction        EPR p_0j   sign s_0j    (p_capacitive)\n",
      "\t\tEnergy fraction (Lj over Lj&Cj)= 97.85%\n",
      "\tj1              0.925891  (+)        0.0203082\n",
      "\t\t(U_tot_cap-U_tot_ind)/mean=1.03%\n",
      "\n",
      "  \u001b[1mMode 1 at 5.01 GHz   [2/4]\u001b[0m\n",
      "    Calculating ℰ_magnetic,ℰ_electric\n",
      "       (ℰ_E-ℰ_H)/ℰ_E       ℰ_E       ℰ_H\n",
      "                1.5%  2.487e-23 2.449e-23\n",
      "\n",
      "    Calculating junction energy participation ration (EPR)\n",
      "\tmethod=`line_voltage`. First estimates:\n",
      "\tjunction        EPR p_1j   sign s_1j    (p_capacitive)\n",
      "\t\tEnergy fraction (Lj over Lj&Cj)= 96.86%\n",
      "\tj1              0.0152871  (+)        0.000496378\n",
      "\t\t(U_tot_cap-U_tot_ind)/mean=0.03%\n",
      "\n",
      "  \u001b[1mMode 2 at 5.54 GHz   [3/4]\u001b[0m\n",
      "    Calculating ℰ_magnetic,ℰ_electric\n",
      "       (ℰ_E-ℰ_H)/ℰ_E       ℰ_E       ℰ_H\n",
      "                0.1%  3.596e-22 3.594e-22\n",
      "\n",
      "    Calculating junction energy participation ration (EPR)\n",
      "\tmethod=`line_voltage`. First estimates:\n",
      "\tjunction        EPR p_2j   sign s_2j    (p_capacitive)\n",
      "\t\tEnergy fraction (Lj over Lj&Cj)= 96.18%\n",
      "\tj1              0.000740724  (+)        2.94265e-05\n",
      "\t\t(U_tot_cap-U_tot_ind)/mean=0.00%\n",
      "\n",
      "  \u001b[1mMode 3 at 10.10 GHz   [4/4]\u001b[0m\n",
      "    Calculating ℰ_magnetic,ℰ_electric\n",
      "       (ℰ_E-ℰ_H)/ℰ_E       ℰ_E       ℰ_H\n",
      "              -50.8%  7.716e-27 1.164e-26\n",
      "\n",
      "    Calculating junction energy participation ration (EPR)\n",
      "\tmethod=`line_voltage`. First estimates:\n",
      "\tjunction        EPR p_3j   sign s_3j    (p_capacitive)\n",
      "\t\tEnergy fraction (Lj over Lj&Cj)= 88.33%\n",
      "\tj1              9.97476e-09  (+)        1.31723e-09\n",
      "\t\t(U_tot_cap-U_tot_ind)/mean=-20.27%\n",
      "WARNING: This simulation must not have converged well!!!                The difference in the total cap and ind energies is larger than 10%.                Proceed with caution.\n"
     ]
    },
    {
     "name": "stderr",
     "output_type": "stream",
     "text": [
      "C:\\Miniconda\\envs\\virenv\\lib\\site-packages\\pyEPR\\ansys.py:1250: FutureWarning: In a future version of pandas all arguments of DataFrame.drop except for the argument 'labels' will be keyword-only\n",
      "  df = df.drop('Unnamed: 9', 1)\n",
      "C:\\Miniconda\\envs\\virenv\\lib\\site-packages\\pyEPR\\ansys.py:1225: FutureWarning: In a future version of pandas all arguments of DataFrame.drop except for the argument 'labels' will be keyword-only\n",
      "  index_col=0).drop('Unnamed: 3', 1)\n"
     ]
    },
    {
     "name": "stdout",
     "output_type": "stream",
     "text": [
      "\n",
      "Variation 1  [2/9]\n",
      "\n",
      "  \u001b[1mMode 0 at 4.08 GHz   [1/4]\u001b[0m\n",
      "    Calculating ℰ_magnetic,ℰ_electric\n",
      "       (ℰ_E-ℰ_H)/ℰ_E       ℰ_E       ℰ_H\n",
      "               93.7%  1.862e-24 1.174e-25\n",
      "\n",
      "    Calculating junction energy participation ration (EPR)\n",
      "\tmethod=`line_voltage`. First estimates:\n",
      "\tjunction        EPR p_0j   sign s_0j    (p_capacitive)\n",
      "\t\tEnergy fraction (Lj over Lj&Cj)= 97.89%\n",
      "\tj1               0.93692  (+)        0.0201506\n",
      "\t\t(U_tot_cap-U_tot_ind)/mean=1.00%\n",
      "\n",
      "  \u001b[1mMode 1 at 5.03 GHz   [2/4]\u001b[0m\n",
      "    Calculating ℰ_magnetic,ℰ_electric\n",
      "       (ℰ_E-ℰ_H)/ℰ_E       ℰ_E       ℰ_H\n",
      "                0.5%  2.508e-22 2.496e-22\n",
      "\n",
      "    Calculating junction energy participation ration (EPR)\n",
      "\tmethod=`line_voltage`. First estimates:\n",
      "\tjunction        EPR p_1j   sign s_1j    (p_capacitive)\n",
      "\t\tEnergy fraction (Lj over Lj&Cj)= 96.83%\n",
      "\tj1              0.00460727  (+)        0.000150603\n",
      "\t\t(U_tot_cap-U_tot_ind)/mean=0.01%\n",
      "\n",
      "  \u001b[1mMode 2 at 5.54 GHz   [3/4]\u001b[0m\n",
      "    Calculating ℰ_magnetic,ℰ_electric\n",
      "       (ℰ_E-ℰ_H)/ℰ_E       ℰ_E       ℰ_H\n",
      "                0.2%  5.733e-22 5.723e-22\n",
      "\n",
      "    Calculating junction energy participation ration (EPR)\n",
      "\tmethod=`line_voltage`. First estimates:\n",
      "\tjunction        EPR p_2j   sign s_2j    (p_capacitive)\n",
      "\t\tEnergy fraction (Lj over Lj&Cj)= 96.18%\n",
      "\tj1              0.00158771  (+)        6.3023e-05\n",
      "\t\t(U_tot_cap-U_tot_ind)/mean=0.00%\n",
      "\n",
      "  \u001b[1mMode 3 at 9.74 GHz   [4/4]\u001b[0m\n",
      "    Calculating ℰ_magnetic,ℰ_electric\n",
      "       (ℰ_E-ℰ_H)/ℰ_E       ℰ_E       ℰ_H\n",
      "              -49.9%  1.887e-25 2.829e-25\n",
      "\n",
      "    Calculating junction energy participation ration (EPR)\n",
      "\tmethod=`line_voltage`. First estimates:\n",
      "\tjunction        EPR p_3j   sign s_3j    (p_capacitive)\n",
      "\t\tEnergy fraction (Lj over Lj&Cj)= 89.07%\n",
      "\tj1              2.81253e-08  (+)        3.44979e-09\n",
      "\t\t(U_tot_cap-U_tot_ind)/mean=-19.98%\n",
      "WARNING: This simulation must not have converged well!!!                The difference in the total cap and ind energies is larger than 10%.                Proceed with caution.\n",
      "\n",
      "Variation 2  [3/9]\n",
      "\n",
      "  \u001b[1mMode 0 at 4.11 GHz   [1/4]\u001b[0m\n",
      "    Calculating ℰ_magnetic,ℰ_electric\n",
      "       (ℰ_E-ℰ_H)/ℰ_E       ℰ_E       ℰ_H\n",
      "               93.3%  1.006e-24 6.696e-26\n",
      "\n",
      "    Calculating junction energy participation ration (EPR)\n",
      "\tmethod=`line_voltage`. First estimates:\n",
      "\tjunction        EPR p_0j   sign s_0j    (p_capacitive)\n",
      "\t\tEnergy fraction (Lj over Lj&Cj)= 97.87%\n",
      "\tj1              0.933264  (+)        0.0203569\n",
      "\t\t(U_tot_cap-U_tot_ind)/mean=1.02%\n",
      "\n",
      "  \u001b[1mMode 1 at 5.02 GHz   [2/4]\u001b[0m\n",
      "    Calculating ℰ_magnetic,ℰ_electric\n",
      "       (ℰ_E-ℰ_H)/ℰ_E       ℰ_E       ℰ_H\n",
      "                0.8%  7.081e-23 7.021e-23\n",
      "\n",
      "    Calculating junction energy participation ration (EPR)\n",
      "\tmethod=`line_voltage`. First estimates:\n",
      "\tjunction        EPR p_1j   sign s_1j    (p_capacitive)\n",
      "\t\tEnergy fraction (Lj over Lj&Cj)= 96.84%\n",
      "\tj1              0.00844989  (+)        0.000275589\n",
      "\t\t(U_tot_cap-U_tot_ind)/mean=0.01%\n",
      "\n",
      "  \u001b[1mMode 2 at 5.54 GHz   [3/4]\u001b[0m\n",
      "    Calculating ℰ_magnetic,ℰ_electric\n",
      "       (ℰ_E-ℰ_H)/ℰ_E       ℰ_E       ℰ_H\n",
      "                0.1%  5.039e-22 5.033e-22\n",
      "\n",
      "    Calculating junction energy participation ration (EPR)\n",
      "\tmethod=`line_voltage`. First estimates:\n",
      "\tjunction        EPR p_2j   sign s_2j    (p_capacitive)\n",
      "\t\tEnergy fraction (Lj over Lj&Cj)= 96.18%\n",
      "\tj1              0.00110205  (+)        4.37904e-05\n",
      "\t\t(U_tot_cap-U_tot_ind)/mean=0.00%\n",
      "\n",
      "  \u001b[1mMode 3 at 10.10 GHz   [4/4]\u001b[0m\n",
      "    Calculating ℰ_magnetic,ℰ_electric\n",
      "       (ℰ_E-ℰ_H)/ℰ_E       ℰ_E       ℰ_H\n",
      "              -51.4%   9.24e-27 1.399e-26\n",
      "\n",
      "    Calculating junction energy participation ration (EPR)\n",
      "\tmethod=`line_voltage`. First estimates:\n",
      "\tjunction        EPR p_3j   sign s_3j    (p_capacitive)\n",
      "\t\tEnergy fraction (Lj over Lj&Cj)= 88.33%\n",
      "\tj1              1.5646e-08  (+)        2.06676e-09\n",
      "\t\t(U_tot_cap-U_tot_ind)/mean=-20.44%\n",
      "WARNING: This simulation must not have converged well!!!                The difference in the total cap and ind energies is larger than 10%.                Proceed with caution.\n",
      "\n",
      "Variation 3  [4/9]\n",
      "\n",
      "  \u001b[1mMode 0 at 4.11 GHz   [1/4]\u001b[0m\n",
      "    Calculating ℰ_magnetic,ℰ_electric\n",
      "       (ℰ_E-ℰ_H)/ℰ_E       ℰ_E       ℰ_H\n",
      "               96.9%  1.052e-24 3.307e-26\n",
      "\n",
      "    Calculating junction energy participation ration (EPR)\n",
      "\tmethod=`line_voltage`. First estimates:\n",
      "\tjunction        EPR p_0j   sign s_0j    (p_capacitive)\n",
      "\t\tEnergy fraction (Lj over Lj&Cj)= 97.91%\n",
      "\tj1              0.967525  (+)        0.0206029\n",
      "\t\t(U_tot_cap-U_tot_ind)/mean=1.07%\n",
      "\n",
      "  \u001b[1mMode 1 at 5.04 GHz   [2/4]\u001b[0m\n",
      "    Calculating ℰ_magnetic,ℰ_electric\n",
      "       (ℰ_E-ℰ_H)/ℰ_E       ℰ_E       ℰ_H\n",
      "                0.1%   4.73e-22 4.723e-22\n",
      "\n",
      "    Calculating junction energy participation ration (EPR)\n",
      "\tmethod=`line_voltage`. First estimates:\n",
      "\tjunction        EPR p_1j   sign s_1j    (p_capacitive)\n",
      "\t\tEnergy fraction (Lj over Lj&Cj)= 96.89%\n",
      "\tj1              0.00138495  (+)        4.44668e-05\n",
      "\t\t(U_tot_cap-U_tot_ind)/mean=0.00%\n",
      "\n",
      "  \u001b[1mMode 2 at 5.54 GHz   [3/4]\u001b[0m\n",
      "    Calculating ℰ_magnetic,ℰ_electric\n",
      "       (ℰ_E-ℰ_H)/ℰ_E       ℰ_E       ℰ_H\n",
      "                0.0%  4.664e-22 4.663e-22\n",
      "\n",
      "    Calculating junction energy participation ration (EPR)\n",
      "\tmethod=`line_voltage`. First estimates:\n",
      "\tjunction        EPR p_2j   sign s_2j    (p_capacitive)\n",
      "\t\tEnergy fraction (Lj over Lj&Cj)= 96.27%\n",
      "\tj1              0.000287137  (+)        1.11221e-05\n",
      "\t\t(U_tot_cap-U_tot_ind)/mean=0.00%\n",
      "\n",
      "  \u001b[1mMode 3 at 9.51 GHz   [4/4]\u001b[0m\n",
      "    Calculating ℰ_magnetic,ℰ_electric\n",
      "       (ℰ_E-ℰ_H)/ℰ_E       ℰ_E       ℰ_H\n",
      "              -50.7%    1.8e-26 2.714e-26\n",
      "\n",
      "    Calculating junction energy participation ration (EPR)\n",
      "\tmethod=`line_voltage`. First estimates:\n",
      "\tjunction        EPR p_3j   sign s_3j    (p_capacitive)\n",
      "\t\tEnergy fraction (Lj over Lj&Cj)= 89.74%\n",
      "\tj1              1.4301e-08  (+)        1.63517e-09\n",
      "\t\t(U_tot_cap-U_tot_ind)/mean=-20.23%\n",
      "WARNING: This simulation must not have converged well!!!                The difference in the total cap and ind energies is larger than 10%.                Proceed with caution.\n",
      "\n",
      "Variation 4  [5/9]\n",
      "\n",
      "  \u001b[1mMode 0 at 4.11 GHz   [1/4]\u001b[0m\n",
      "    Calculating ℰ_magnetic,ℰ_electric\n",
      "       (ℰ_E-ℰ_H)/ℰ_E       ℰ_E       ℰ_H\n",
      "               96.8%   5.67e-25 1.833e-26\n",
      "\n",
      "    Calculating junction energy participation ration (EPR)\n",
      "\tmethod=`line_voltage`. First estimates:\n",
      "\tjunction        EPR p_0j   sign s_0j    (p_capacitive)\n",
      "\t\tEnergy fraction (Lj over Lj&Cj)= 97.91%\n",
      "\tj1              0.966639  (+)        0.0206259\n",
      "\t\t(U_tot_cap-U_tot_ind)/mean=1.07%\n",
      "\n",
      "  \u001b[1mMode 1 at 5.04 GHz   [2/4]\u001b[0m\n",
      "    Calculating ℰ_magnetic,ℰ_electric\n",
      "       (ℰ_E-ℰ_H)/ℰ_E       ℰ_E       ℰ_H\n",
      "                0.3%  1.362e-22 1.359e-22\n",
      "\n",
      "    Calculating junction energy participation ration (EPR)\n",
      "\tmethod=`line_voltage`. First estimates:\n",
      "\tjunction        EPR p_1j   sign s_1j    (p_capacitive)\n",
      "\t\tEnergy fraction (Lj over Lj&Cj)= 96.89%\n",
      "\tj1              0.00258461  (+)        8.28963e-05\n",
      "\t\t(U_tot_cap-U_tot_ind)/mean=0.00%\n",
      "\n",
      "  \u001b[1mMode 2 at 5.54 GHz   [3/4]\u001b[0m\n",
      "    Calculating ℰ_magnetic,ℰ_electric\n",
      "       (ℰ_E-ℰ_H)/ℰ_E       ℰ_E       ℰ_H\n",
      "                0.0%  2.264e-22 2.264e-22\n",
      "\n",
      "    Calculating junction energy participation ration (EPR)\n",
      "\tmethod=`line_voltage`. First estimates:\n",
      "\tjunction        EPR p_2j   sign s_2j    (p_capacitive)\n",
      "\t\tEnergy fraction (Lj over Lj&Cj)= 96.27%\n",
      "\tj1              0.000172545  (+)        6.68743e-06\n",
      "\t\t(U_tot_cap-U_tot_ind)/mean=0.00%\n",
      "\n",
      "  \u001b[1mMode 3 at 9.58 GHz   [4/4]\u001b[0m\n",
      "    Calculating ℰ_magnetic,ℰ_electric\n",
      "       (ℰ_E-ℰ_H)/ℰ_E       ℰ_E       ℰ_H\n",
      "              -52.8%   6.26e-27 9.566e-27\n",
      "\n",
      "    Calculating junction energy participation ration (EPR)\n",
      "\tmethod=`line_voltage`. First estimates:\n",
      "\tjunction        EPR p_3j   sign s_3j    (p_capacitive)\n",
      "\t\tEnergy fraction (Lj over Lj&Cj)= 89.61%\n",
      "\tj1              7.95644e-09  (+)        9.22433e-10\n",
      "\t\t(U_tot_cap-U_tot_ind)/mean=-20.89%\n",
      "WARNING: This simulation must not have converged well!!!                The difference in the total cap and ind energies is larger than 10%.                Proceed with caution.\n",
      "\n",
      "Variation 5  [6/9]\n",
      "\n",
      "  \u001b[1mMode 0 at 4.07 GHz   [1/4]\u001b[0m\n",
      "    Calculating ℰ_magnetic,ℰ_electric\n",
      "       (ℰ_E-ℰ_H)/ℰ_E       ℰ_E       ℰ_H\n",
      "               96.9%  1.787e-24 5.515e-26\n",
      "\n",
      "    Calculating junction energy participation ration (EPR)\n",
      "\tmethod=`line_voltage`. First estimates:\n",
      "\tjunction        EPR p_0j   sign s_0j    (p_capacitive)\n"
     ]
    },
    {
     "name": "stdout",
     "output_type": "stream",
     "text": [
      "\t\tEnergy fraction (Lj over Lj&Cj)= 97.95%\n",
      "\tj1              0.969076  (+)        0.0203179\n",
      "\t\t(U_tot_cap-U_tot_ind)/mean=1.01%\n",
      "\n",
      "  \u001b[1mMode 1 at 5.04 GHz   [2/4]\u001b[0m\n",
      "    Calculating ℰ_magnetic,ℰ_electric\n",
      "       (ℰ_E-ℰ_H)/ℰ_E       ℰ_E       ℰ_H\n",
      "                0.1%  1.619e-21 1.618e-21\n",
      "\n",
      "    Calculating junction energy participation ration (EPR)\n",
      "\tmethod=`line_voltage`. First estimates:\n",
      "\tjunction        EPR p_1j   sign s_1j    (p_capacitive)\n",
      "\t\tEnergy fraction (Lj over Lj&Cj)= 96.89%\n",
      "\tj1              0.000683583  (+)        2.19543e-05\n",
      "\t\t(U_tot_cap-U_tot_ind)/mean=0.00%\n",
      "\n",
      "  \u001b[1mMode 2 at 5.53 GHz   [3/4]\u001b[0m\n",
      "    Calculating ℰ_magnetic,ℰ_electric\n",
      "       (ℰ_E-ℰ_H)/ℰ_E       ℰ_E       ℰ_H\n",
      "                0.0%  2.113e-21 2.112e-21\n",
      "\n",
      "    Calculating junction energy participation ration (EPR)\n",
      "\tmethod=`line_voltage`. First estimates:\n",
      "\tjunction        EPR p_2j   sign s_2j    (p_capacitive)\n",
      "\t\tEnergy fraction (Lj over Lj&Cj)= 96.28%\n",
      "\tj1              0.000457597  (+)        1.77023e-05\n",
      "\t\t(U_tot_cap-U_tot_ind)/mean=0.00%\n",
      "\n",
      "  \u001b[1mMode 3 at 9.10 GHz   [4/4]\u001b[0m\n",
      "    Calculating ℰ_magnetic,ℰ_electric\n",
      "       (ℰ_E-ℰ_H)/ℰ_E       ℰ_E       ℰ_H\n",
      "              -52.5%  2.881e-25 4.392e-25\n",
      "\n",
      "    Calculating junction energy participation ration (EPR)\n",
      "\tmethod=`line_voltage`. First estimates:\n",
      "\tjunction        EPR p_3j   sign s_3j    (p_capacitive)\n",
      "\t\tEnergy fraction (Lj over Lj&Cj)= 90.53%\n",
      "\tj1              2.52494e-08  (+)        2.6409e-09\n",
      "\t\t(U_tot_cap-U_tot_ind)/mean=-20.78%\n",
      "WARNING: This simulation must not have converged well!!!                The difference in the total cap and ind energies is larger than 10%.                Proceed with caution.\n",
      "\n",
      "Variation 6  [7/9]\n",
      "\n",
      "  \u001b[1mMode 0 at 4.08 GHz   [1/4]\u001b[0m\n",
      "    Calculating ℰ_magnetic,ℰ_electric\n",
      "       (ℰ_E-ℰ_H)/ℰ_E       ℰ_E       ℰ_H\n",
      "               95.8%   1.36e-24 5.676e-26\n",
      "\n",
      "    Calculating junction energy participation ration (EPR)\n",
      "\tmethod=`line_voltage`. First estimates:\n",
      "\tjunction        EPR p_0j   sign s_0j    (p_capacitive)\n",
      "\t\tEnergy fraction (Lj over Lj&Cj)= 97.94%\n",
      "\tj1              0.957682  (+)        0.0201814\n",
      "\t\t(U_tot_cap-U_tot_ind)/mean=1.03%\n",
      "\n",
      "  \u001b[1mMode 1 at 5.04 GHz   [2/4]\u001b[0m\n",
      "    Calculating ℰ_magnetic,ℰ_electric\n",
      "       (ℰ_E-ℰ_H)/ℰ_E       ℰ_E       ℰ_H\n",
      "                0.1%  6.902e-22 6.893e-22\n",
      "\n",
      "    Calculating junction energy participation ration (EPR)\n",
      "\tmethod=`line_voltage`. First estimates:\n",
      "\tjunction        EPR p_1j   sign s_1j    (p_capacitive)\n",
      "\t\tEnergy fraction (Lj over Lj&Cj)= 96.89%\n",
      "\tj1              0.00130362  (+)        4.18854e-05\n",
      "\t\t(U_tot_cap-U_tot_ind)/mean=0.00%\n",
      "\n",
      "  \u001b[1mMode 2 at 5.53 GHz   [3/4]\u001b[0m\n",
      "    Calculating ℰ_magnetic,ℰ_electric\n",
      "       (ℰ_E-ℰ_H)/ℰ_E       ℰ_E       ℰ_H\n",
      "                0.1%   7.79e-22 7.783e-22\n",
      "\n",
      "    Calculating junction energy participation ration (EPR)\n",
      "\tmethod=`line_voltage`. First estimates:\n",
      "\tjunction        EPR p_2j   sign s_2j    (p_capacitive)\n",
      "\t\tEnergy fraction (Lj over Lj&Cj)= 96.27%\n",
      "\tj1              0.000852673  (+)        3.2997e-05\n",
      "\t\t(U_tot_cap-U_tot_ind)/mean=0.00%\n",
      "\n",
      "  \u001b[1mMode 3 at 9.15 GHz   [4/4]\u001b[0m\n",
      "    Calculating ℰ_magnetic,ℰ_electric\n",
      "       (ℰ_E-ℰ_H)/ℰ_E       ℰ_E       ℰ_H\n",
      "              -52.0%  3.678e-25 5.591e-25\n",
      "\n",
      "    Calculating junction energy participation ration (EPR)\n",
      "\tmethod=`line_voltage`. First estimates:\n",
      "\tjunction        EPR p_3j   sign s_3j    (p_capacitive)\n",
      "\t\tEnergy fraction (Lj over Lj&Cj)= 90.43%\n",
      "\tj1              4.69387e-08  (+)        4.96844e-09\n",
      "\t\t(U_tot_cap-U_tot_ind)/mean=-20.63%\n",
      "WARNING: This simulation must not have converged well!!!                The difference in the total cap and ind energies is larger than 10%.                Proceed with caution.\n",
      "\n",
      "Variation 7  [8/9]\n",
      "\n",
      "  \u001b[1mMode 0 at 4.11 GHz   [1/4]\u001b[0m\n",
      "    Calculating ℰ_magnetic,ℰ_electric\n",
      "       (ℰ_E-ℰ_H)/ℰ_E       ℰ_E       ℰ_H\n",
      "               95.6%  8.546e-25 3.789e-26\n",
      "\n",
      "    Calculating junction energy participation ration (EPR)\n",
      "\tmethod=`line_voltage`. First estimates:\n",
      "\tjunction        EPR p_0j   sign s_0j    (p_capacitive)\n",
      "\t\tEnergy fraction (Lj over Lj&Cj)= 97.91%\n",
      "\tj1              0.955285  (+)        0.0204115\n",
      "\t\t(U_tot_cap-U_tot_ind)/mean=1.03%\n",
      "\n",
      "  \u001b[1mMode 1 at 5.04 GHz   [2/4]\u001b[0m\n",
      "    Calculating ℰ_magnetic,ℰ_electric\n",
      "       (ℰ_E-ℰ_H)/ℰ_E       ℰ_E       ℰ_H\n",
      "                0.5%  1.238e-22 1.232e-22\n",
      "\n",
      "    Calculating junction energy participation ration (EPR)\n",
      "\tmethod=`line_voltage`. First estimates:\n",
      "\tjunction        EPR p_1j   sign s_1j    (p_capacitive)\n",
      "\t\tEnergy fraction (Lj over Lj&Cj)= 96.89%\n",
      "\tj1              0.00458387  (+)        0.000147044\n",
      "\t\t(U_tot_cap-U_tot_ind)/mean=0.01%\n",
      "\n",
      "  \u001b[1mMode 2 at 5.54 GHz   [3/4]\u001b[0m\n",
      "    Calculating ℰ_magnetic,ℰ_electric\n",
      "       (ℰ_E-ℰ_H)/ℰ_E       ℰ_E       ℰ_H\n",
      "                0.0%  7.117e-22 7.115e-22\n",
      "\n",
      "    Calculating junction energy participation ration (EPR)\n",
      "\tmethod=`line_voltage`. First estimates:\n",
      "\tjunction        EPR p_2j   sign s_2j    (p_capacitive)\n",
      "\t\tEnergy fraction (Lj over Lj&Cj)= 96.27%\n",
      "\tj1              0.000344023  (+)        1.33308e-05\n",
      "\t\t(U_tot_cap-U_tot_ind)/mean=0.00%\n",
      "\n",
      "  \u001b[1mMode 3 at 9.57 GHz   [4/4]\u001b[0m\n",
      "    Calculating ℰ_magnetic,ℰ_electric\n",
      "       (ℰ_E-ℰ_H)/ℰ_E       ℰ_E       ℰ_H\n",
      "              -52.3%  2.997e-26 4.565e-26\n",
      "\n",
      "    Calculating junction energy participation ration (EPR)\n",
      "\tmethod=`line_voltage`. First estimates:\n",
      "\tjunction        EPR p_3j   sign s_3j    (p_capacitive)\n",
      "\t\tEnergy fraction (Lj over Lj&Cj)= 89.64%\n",
      "\tj1              1.54589e-08  (+)        1.78676e-09\n",
      "\t\t(U_tot_cap-U_tot_ind)/mean=-20.74%\n",
      "WARNING: This simulation must not have converged well!!!                The difference in the total cap and ind energies is larger than 10%.                Proceed with caution.\n",
      "\n",
      "Variation 8  [9/9]\n",
      "\n",
      "  \u001b[1mMode 0 at 4.12 GHz   [1/4]\u001b[0m\n",
      "    Calculating ℰ_magnetic,ℰ_electric\n",
      "       (ℰ_E-ℰ_H)/ℰ_E       ℰ_E       ℰ_H\n",
      "               95.7%  6.358e-25 2.726e-26\n",
      "\n",
      "    Calculating junction energy participation ration (EPR)\n",
      "\tmethod=`line_voltage`. First estimates:\n",
      "\tjunction        EPR p_0j   sign s_0j    (p_capacitive)\n",
      "\t\tEnergy fraction (Lj over Lj&Cj)= 97.90%\n",
      "\tj1              0.956765  (+)        0.0204888\n",
      "\t\t(U_tot_cap-U_tot_ind)/mean=1.03%\n",
      "\n",
      "  \u001b[1mMode 1 at 5.04 GHz   [2/4]\u001b[0m\n",
      "    Calculating ℰ_magnetic,ℰ_electric\n",
      "       (ℰ_E-ℰ_H)/ℰ_E       ℰ_E       ℰ_H\n",
      "                0.3%  1.496e-22 1.493e-22\n",
      "\n",
      "    Calculating junction energy participation ration (EPR)\n",
      "\tmethod=`line_voltage`. First estimates:\n",
      "\tjunction        EPR p_1j   sign s_1j    (p_capacitive)\n",
      "\t\tEnergy fraction (Lj over Lj&Cj)= 96.89%\n",
      "\tj1              0.00257962  (+)        8.28865e-05\n",
      "\t\t(U_tot_cap-U_tot_ind)/mean=0.00%\n",
      "\n",
      "  \u001b[1mMode 2 at 5.54 GHz   [3/4]\u001b[0m\n",
      "    Calculating ℰ_magnetic,ℰ_electric\n",
      "       (ℰ_E-ℰ_H)/ℰ_E       ℰ_E       ℰ_H\n",
      "                0.1%  2.535e-22 2.533e-22\n",
      "\n",
      "    Calculating junction energy participation ration (EPR)\n",
      "\tmethod=`line_voltage`. First estimates:\n",
      "\tjunction        EPR p_2j   sign s_2j    (p_capacitive)\n",
      "\t\tEnergy fraction (Lj over Lj&Cj)= 96.27%\n",
      "\tj1              0.000564431  (+)        2.18809e-05\n",
      "\t\t(U_tot_cap-U_tot_ind)/mean=0.00%\n",
      "\n",
      "  \u001b[1mMode 3 at 9.54 GHz   [4/4]\u001b[0m\n",
      "    Calculating ℰ_magnetic,ℰ_electric\n",
      "       (ℰ_E-ℰ_H)/ℰ_E       ℰ_E       ℰ_H\n",
      "              -52.4%  7.232e-27 1.102e-26\n",
      "\n",
      "    Calculating junction energy participation ration (EPR)\n",
      "\tmethod=`line_voltage`. First estimates:\n",
      "\tjunction        EPR p_3j   sign s_3j    (p_capacitive)\n",
      "\t\tEnergy fraction (Lj over Lj&Cj)= 89.69%\n",
      "\tj1              2.62294e-08  (+)        3.01639e-09\n",
      "\t\t(U_tot_cap-U_tot_ind)/mean=-20.75%\n",
      "WARNING: This simulation must not have converged well!!!                The difference in the total cap and ind energies is larger than 10%.                Proceed with caution.\n",
      "\n",
      "ANALYSIS DONE. Data saved to:\n",
      "\n",
      "C:\\data-pyEPR\\DualCavity\\L Two Post Memory with a sapphire rod_eigenmode_gen6\\2022-02-14 09-55-48.npz\n",
      "\n",
      "\n"
     ]
    }
   ],
   "source": [
    "eprh.do_EPR_analysis();"
   ]
  },
  {
   "cell_type": "markdown",
   "metadata": {},
   "source": [
    "##### Getting more info"
   ]
  },
  {
   "cell_type": "markdown",
   "metadata": {},
   "source": [
    "In general, to see more info when running commands , set the logger level"
   ]
  },
  {
   "cell_type": "code",
   "execution_count": null,
   "metadata": {},
   "outputs": [],
   "source": [
    "import logging\n",
    "epr.logger.setLevel(logging.DEBUG)"
   ]
  },
  {
   "cell_type": "markdown",
   "metadata": {},
   "source": [
    "## <div style=\"background:#BBFABB;line-height:2em;\"> Quantum Hamiltonian Analysis:<br> Load mw-analysis results and perform hamiltonian analysis on the solutions  <div>"
   ]
  },
  {
   "cell_type": "markdown",
   "metadata": {},
   "source": [
    "We will now postprocess the mw analysis to obtain the quantum Hamiltonian. \n",
    "\n",
    "The code object of postprocessing is `epra`, an instance of `epr.QuantumAnalysis`."
   ]
  },
  {
   "cell_type": "code",
   "execution_count": 32,
   "metadata": {
    "scrolled": true
   },
   "outputs": [
    {
     "name": "stdout",
     "output_type": "stream",
     "text": [
      "\t Differences in variations:\n"
     ]
    },
    {
     "data": {
      "text/html": [
       "<div>\n",
       "<style scoped>\n",
       "    .dataframe tbody tr th:only-of-type {\n",
       "        vertical-align: middle;\n",
       "    }\n",
       "\n",
       "    .dataframe tbody tr th {\n",
       "        vertical-align: top;\n",
       "    }\n",
       "\n",
       "    .dataframe thead th {\n",
       "        text-align: right;\n",
       "    }\n",
       "</style>\n",
       "<table border=\"1\" class=\"dataframe\">\n",
       "  <thead>\n",
       "    <tr style=\"text-align: right;\">\n",
       "      <th>variation</th>\n",
       "      <th>0</th>\n",
       "      <th>1</th>\n",
       "      <th>2</th>\n",
       "      <th>3</th>\n",
       "      <th>4</th>\n",
       "      <th>5</th>\n",
       "      <th>6</th>\n",
       "      <th>7</th>\n",
       "      <th>8</th>\n",
       "    </tr>\n",
       "  </thead>\n",
       "  <tbody>\n",
       "    <tr>\n",
       "      <th>_CenterOffset</th>\n",
       "      <td>0mm</td>\n",
       "      <td>-0.5mm</td>\n",
       "      <td>-0.25mm</td>\n",
       "      <td>-0.25mm</td>\n",
       "      <td>0mm</td>\n",
       "      <td>-0.5mm</td>\n",
       "      <td>-0.5mm</td>\n",
       "      <td>0mm</td>\n",
       "      <td>-0.25mm</td>\n",
       "    </tr>\n",
       "    <tr>\n",
       "      <th>_LJ</th>\n",
       "      <td>16.390000000000001nH</td>\n",
       "      <td>16.390000000000001nH</td>\n",
       "      <td>16.390000000000001nH</td>\n",
       "      <td>16nH</td>\n",
       "      <td>16nH</td>\n",
       "      <td>16nH</td>\n",
       "      <td>16nH</td>\n",
       "      <td>16nH</td>\n",
       "      <td>16nH</td>\n",
       "    </tr>\n",
       "    <tr>\n",
       "      <th>_padHeight</th>\n",
       "      <td>0.10000000000000001mm</td>\n",
       "      <td>0.10000000000000001mm</td>\n",
       "      <td>0.10000000000000001mm</td>\n",
       "      <td>0.29999999999999999mm</td>\n",
       "      <td>0.29999999999999999mm</td>\n",
       "      <td>0.29999999999999999mm</td>\n",
       "      <td>0.20000000000000001mm</td>\n",
       "      <td>0.20000000000000001mm</td>\n",
       "      <td>0.20000000000000001mm</td>\n",
       "    </tr>\n",
       "    <tr>\n",
       "      <th>_padLen</th>\n",
       "      <td>2.2000000000000002mm</td>\n",
       "      <td>2.2000000000000002mm</td>\n",
       "      <td>2.2000000000000002mm</td>\n",
       "      <td>1.2999999999999998mm</td>\n",
       "      <td>1.2999999999999998mm</td>\n",
       "      <td>1.2999999999999998mm</td>\n",
       "      <td>1.7mm</td>\n",
       "      <td>1.7mm</td>\n",
       "      <td>1.7mm</td>\n",
       "    </tr>\n",
       "    <tr>\n",
       "      <th>_PadOffset</th>\n",
       "      <td>1mm</td>\n",
       "      <td>1mm</td>\n",
       "      <td>1mm</td>\n",
       "      <td>0.10000000000000001mm</td>\n",
       "      <td>0.10000000000000001mm</td>\n",
       "      <td>0.10000000000000001mm</td>\n",
       "      <td>0.10000000000000001mm</td>\n",
       "      <td>0.10000000000000001mm</td>\n",
       "      <td>0.10000000000000001mm</td>\n",
       "    </tr>\n",
       "    <tr>\n",
       "      <th>_pinStorageLen</th>\n",
       "      <td>6.5mm</td>\n",
       "      <td>6.5mm</td>\n",
       "      <td>6.5mm</td>\n",
       "      <td>6.54mm</td>\n",
       "      <td>6.54mm</td>\n",
       "      <td>6.54mm</td>\n",
       "      <td>6.54mm</td>\n",
       "      <td>6.54mm</td>\n",
       "      <td>6.54mm</td>\n",
       "    </tr>\n",
       "    <tr>\n",
       "      <th>_ROpin2Len</th>\n",
       "      <td>9.2599999999999998mm</td>\n",
       "      <td>9.2599999999999998mm</td>\n",
       "      <td>9.2599999999999998mm</td>\n",
       "      <td>9.9250000000000007mm</td>\n",
       "      <td>9.9250000000000007mm</td>\n",
       "      <td>9.9250000000000007mm</td>\n",
       "      <td>9.9250000000000007mm</td>\n",
       "      <td>9.9250000000000007mm</td>\n",
       "      <td>9.9250000000000007mm</td>\n",
       "    </tr>\n",
       "  </tbody>\n",
       "</table>\n",
       "</div>"
      ],
      "text/plain": [
       "variation                           0                      1  \\\n",
       "_CenterOffset                     0mm                 -0.5mm   \n",
       "_LJ              16.390000000000001nH   16.390000000000001nH   \n",
       "_padHeight      0.10000000000000001mm  0.10000000000000001mm   \n",
       "_padLen          2.2000000000000002mm   2.2000000000000002mm   \n",
       "_PadOffset                        1mm                    1mm   \n",
       "_pinStorageLen                  6.5mm                  6.5mm   \n",
       "_ROpin2Len       9.2599999999999998mm   9.2599999999999998mm   \n",
       "\n",
       "variation                           2                      3  \\\n",
       "_CenterOffset                 -0.25mm                -0.25mm   \n",
       "_LJ              16.390000000000001nH                   16nH   \n",
       "_padHeight      0.10000000000000001mm  0.29999999999999999mm   \n",
       "_padLen          2.2000000000000002mm   1.2999999999999998mm   \n",
       "_PadOffset                        1mm  0.10000000000000001mm   \n",
       "_pinStorageLen                  6.5mm                 6.54mm   \n",
       "_ROpin2Len       9.2599999999999998mm   9.9250000000000007mm   \n",
       "\n",
       "variation                           4                      5  \\\n",
       "_CenterOffset                     0mm                 -0.5mm   \n",
       "_LJ                              16nH                   16nH   \n",
       "_padHeight      0.29999999999999999mm  0.29999999999999999mm   \n",
       "_padLen          1.2999999999999998mm   1.2999999999999998mm   \n",
       "_PadOffset      0.10000000000000001mm  0.10000000000000001mm   \n",
       "_pinStorageLen                 6.54mm                 6.54mm   \n",
       "_ROpin2Len       9.9250000000000007mm   9.9250000000000007mm   \n",
       "\n",
       "variation                           6                      7  \\\n",
       "_CenterOffset                  -0.5mm                    0mm   \n",
       "_LJ                              16nH                   16nH   \n",
       "_padHeight      0.20000000000000001mm  0.20000000000000001mm   \n",
       "_padLen                         1.7mm                  1.7mm   \n",
       "_PadOffset      0.10000000000000001mm  0.10000000000000001mm   \n",
       "_pinStorageLen                 6.54mm                 6.54mm   \n",
       "_ROpin2Len       9.9250000000000007mm   9.9250000000000007mm   \n",
       "\n",
       "variation                           8  \n",
       "_CenterOffset                 -0.25mm  \n",
       "_LJ                              16nH  \n",
       "_padHeight      0.20000000000000001mm  \n",
       "_padLen                         1.7mm  \n",
       "_PadOffset      0.10000000000000001mm  \n",
       "_pinStorageLen                 6.54mm  \n",
       "_ROpin2Len       9.9250000000000007mm  "
      ]
     },
     "metadata": {},
     "output_type": "display_data"
    },
    {
     "name": "stderr",
     "output_type": "stream",
     "text": [
      "ERROR 12:06PM [_get_participation_normalized]: WARNING: U_tot_cap-U_tot_ind / mean = 40.5% is > 15%.                     \n",
      "Is the simulation converged? Proceed with caution\n"
     ]
    },
    {
     "name": "stdout",
     "output_type": "stream",
     "text": [
      "\n",
      "\n",
      "\n",
      " . . . . . . . . . . . . . . . . . . . . . . . . . . . . . . . . . . . . . . . . \n",
      "Variation 0\n",
      "\n",
      "Starting the diagonalization\n",
      "Finished the diagonalization\n"
     ]
    },
    {
     "name": "stderr",
     "output_type": "stream",
     "text": [
      "ERROR 12:07PM [_get_participation_normalized]: WARNING: U_tot_cap-U_tot_ind / mean = 40.5% is > 15%.                     \n",
      "Is the simulation converged? Proceed with caution\n"
     ]
    },
    {
     "name": "stdout",
     "output_type": "stream",
     "text": [
      "Pm_norm=\n",
      "modes\n",
      "0    1.021700e+00\n",
      "1    1.016786e+00\n",
      "2    1.020171e+00\n",
      "3    2.032103e+07\n",
      "dtype: float64\n",
      "\n",
      "Pm_norm idx =\n",
      "      j1\n",
      "0   True\n",
      "1  False\n",
      "2  False\n",
      "3  False\n",
      "\n",
      "*** Different parameters\n"
     ]
    },
    {
     "data": {
      "text/plain": [
       "_CenterOffset                       0mm\n",
       "_LJ                16.390000000000001nH\n",
       "_padHeight        0.10000000000000001mm\n",
       "_padLen            2.2000000000000002mm\n",
       "_PadOffset                          1mm\n",
       "_pinStorageLen                    6.5mm\n",
       "_ROpin2Len         9.2599999999999998mm\n",
       "Name: 0, dtype: object"
      ]
     },
     "metadata": {},
     "output_type": "display_data"
    },
    {
     "name": "stderr",
     "output_type": "stream",
     "text": [
      "ERROR 12:07PM [_get_participation_normalized]: WARNING: U_tot_cap-U_tot_ind / mean = 40.0% is > 15%.                     \n",
      "Is the simulation converged? Proceed with caution\n"
     ]
    },
    {
     "name": "stdout",
     "output_type": "stream",
     "text": [
      "\n",
      "\n",
      "*** P (participation matrix, not normlz.)\n",
      "             j1\n",
      "0  9.074617e-01\n",
      "1  1.527955e-02\n",
      "2  7.407021e-04\n",
      "3  9.974765e-09\n",
      "\n",
      "*** S (sign-bit matrix)\n",
      "   s_j1\n",
      "0     1\n",
      "1     1\n",
      "2     1\n",
      "3     1\n",
      "*** P (participation matrix, normalized.)\n",
      "      0.93\n",
      "     0.015\n",
      "   0.00074\n",
      "     1e-08\n",
      "\n",
      "*** Chi matrix O1 PT (MHz)\n",
      "    Diag is anharmonicity, off diag is full cross-Kerr.\n",
      "       183     7.32    0.393 9.64e-06\n",
      "      7.32   0.0734  0.00787 1.93e-07\n",
      "     0.393  0.00787 0.000211 1.04e-08\n",
      "  9.64e-06 1.93e-07 1.04e-08 1.27e-13\n",
      "\n",
      "*** Chi matrix ND (MHz) \n",
      "     -8.67      3.8     0.26 8.45e-06\n",
      "       3.8  -0.0556  0.00409 1.33e-07\n",
      "      0.26  0.00409-0.000124 8.05e-09\n",
      "  8.45e-06 1.33e-07 8.05e-09 3.81e-11\n",
      "\n",
      "*** Frequencies O1 PT (MHz)\n",
      "0     3930.443641\n",
      "1     5005.353132\n",
      "2     5540.397597\n",
      "3    10101.724616\n",
      "dtype: float64\n",
      "\n",
      "*** Frequencies ND (MHz)\n",
      "0     3932.059910\n",
      "1     5005.873053\n",
      "2     5540.414701\n",
      "3    10101.724616\n",
      "dtype: float64\n",
      "\n",
      "*** Q_coupling\n",
      "Empty DataFrame\n",
      "Columns: []\n",
      "Index: [0, 1, 2, 3]\n",
      "\n",
      " . . . . . . . . . . . . . . . . . . . . . . . . . . . . . . . . . . . . . . . . \n",
      "Variation 1\n",
      "\n",
      "Starting the diagonalization\n",
      "Finished the diagonalization\n"
     ]
    },
    {
     "name": "stderr",
     "output_type": "stream",
     "text": [
      "ERROR 12:07PM [_get_participation_normalized]: WARNING: U_tot_cap-U_tot_ind / mean = 40.0% is > 15%.                     \n",
      "Is the simulation converged? Proceed with caution\n"
     ]
    },
    {
     "name": "stdout",
     "output_type": "stream",
     "text": [
      "Pm_norm=\n",
      "modes\n",
      "0    1.020898e+00\n",
      "1    1.016453e+00\n",
      "2    1.019913e+00\n",
      "3    7.102770e+06\n",
      "dtype: float64\n",
      "\n",
      "Pm_norm idx =\n",
      "      j1\n",
      "0   True\n",
      "1  False\n",
      "2  False\n",
      "3  False\n",
      "\n",
      "*** Different parameters\n"
     ]
    },
    {
     "data": {
      "text/plain": [
       "_CenterOffset                    -0.5mm\n",
       "_LJ                16.390000000000001nH\n",
       "_padHeight        0.10000000000000001mm\n",
       "_padLen            2.2000000000000002mm\n",
       "_PadOffset                          1mm\n",
       "_pinStorageLen                    6.5mm\n",
       "_ROpin2Len         9.2599999999999998mm\n",
       "Name: 1, dtype: object"
      ]
     },
     "metadata": {},
     "output_type": "display_data"
    },
    {
     "name": "stderr",
     "output_type": "stream",
     "text": [
      "ERROR 12:07PM [_get_participation_normalized]: WARNING: U_tot_cap-U_tot_ind / mean = 40.9% is > 15%.                     \n",
      "Is the simulation converged? Proceed with caution\n"
     ]
    },
    {
     "name": "stdout",
     "output_type": "stream",
     "text": [
      "\n",
      "\n",
      "*** P (participation matrix, not normlz.)\n",
      "             j1\n",
      "0  9.184138e-01\n",
      "1  4.606577e-03\n",
      "2  1.587609e-03\n",
      "3  2.812528e-08\n",
      "\n",
      "*** S (sign-bit matrix)\n",
      "   s_j1\n",
      "0     1\n",
      "1     1\n",
      "2     1\n",
      "3     1\n",
      "*** P (participation matrix, normalized.)\n",
      "      0.94\n",
      "    0.0046\n",
      "    0.0016\n",
      "   2.8e-08\n",
      "\n",
      "*** Chi matrix O1 PT (MHz)\n",
      "    Diag is anharmonicity, off diag is full cross-Kerr.\n",
      "       183     2.22    0.842 2.62e-05\n",
      "      2.22  0.00672   0.0051 1.59e-07\n",
      "     0.842   0.0051 0.000969 6.04e-08\n",
      "  2.62e-05 1.59e-07 6.04e-08  9.4e-13\n",
      "\n",
      "*** Chi matrix ND (MHz) \n",
      "     -10.6     1.21     0.57 2.29e-05\n",
      "      1.21 -0.00487  0.00278 1.11e-07\n",
      "      0.57  0.00278-0.000545 4.68e-08\n",
      "  2.29e-05 1.11e-07 4.68e-08  6.1e-11\n",
      "\n",
      "*** Frequencies O1 PT (MHz)\n",
      "0    3892.044234\n",
      "1    5024.746141\n",
      "2    5537.915974\n",
      "3    9735.619310\n",
      "dtype: float64\n",
      "\n",
      "*** Frequencies ND (MHz)\n",
      "0    3894.267815\n",
      "1    5024.889410\n",
      "2    5537.949007\n",
      "3    9735.619310\n",
      "dtype: float64\n",
      "\n",
      "*** Q_coupling\n",
      "Empty DataFrame\n",
      "Columns: []\n",
      "Index: [0, 1, 2, 3]\n",
      "\n",
      " . . . . . . . . . . . . . . . . . . . . . . . . . . . . . . . . . . . . . . . . \n",
      "Variation 2\n",
      "\n",
      "Starting the diagonalization\n",
      "Finished the diagonalization\n"
     ]
    },
    {
     "name": "stderr",
     "output_type": "stream",
     "text": [
      "ERROR 12:07PM [_get_participation_normalized]: WARNING: U_tot_cap-U_tot_ind / mean = 40.9% is > 15%.                     \n",
      "Is the simulation converged? Proceed with caution\n"
     ]
    },
    {
     "name": "stdout",
     "output_type": "stream",
     "text": [
      "Pm_norm=\n",
      "modes\n",
      "0    1.021265e+00\n",
      "1    1.016538e+00\n",
      "2    1.019982e+00\n",
      "3    1.306187e+07\n",
      "dtype: float64\n",
      "\n",
      "Pm_norm idx =\n",
      "      j1\n",
      "0   True\n",
      "1  False\n",
      "2  False\n",
      "3  False\n",
      "\n",
      "*** Different parameters\n"
     ]
    },
    {
     "data": {
      "text/plain": [
       "_CenterOffset                   -0.25mm\n",
       "_LJ                16.390000000000001nH\n",
       "_padHeight        0.10000000000000001mm\n",
       "_padLen            2.2000000000000002mm\n",
       "_PadOffset                          1mm\n",
       "_pinStorageLen                    6.5mm\n",
       "_ROpin2Len         9.2599999999999998mm\n",
       "Name: 2, dtype: object"
      ]
     },
     "metadata": {},
     "output_type": "display_data"
    },
    {
     "name": "stderr",
     "output_type": "stream",
     "text": [
      "ERROR 12:07PM [_get_participation_normalized]: WARNING: U_tot_cap-U_tot_ind / mean = 40.5% is > 15%.                     \n",
      "Is the simulation converged? Proceed with caution\n"
     ]
    },
    {
     "name": "stdout",
     "output_type": "stream",
     "text": [
      "\n",
      "\n",
      "*** P (participation matrix, not normlz.)\n",
      "             j1\n",
      "0  9.146448e-01\n",
      "1  8.447563e-03\n",
      "2  1.101998e-03\n",
      "3  1.564596e-08\n",
      "\n",
      "*** S (sign-bit matrix)\n",
      "   s_j1\n",
      "0     1\n",
      "1     1\n",
      "2     1\n",
      "3     1\n",
      "*** P (participation matrix, normalized.)\n",
      "      0.93\n",
      "    0.0084\n",
      "    0.0011\n",
      "   1.6e-08\n",
      "\n",
      "*** Chi matrix O1 PT (MHz)\n",
      "    Diag is anharmonicity, off diag is full cross-Kerr.\n",
      "       184     4.08    0.587 1.52e-05\n",
      "      4.08   0.0225  0.00649 1.68e-07\n",
      "     0.587  0.00649 0.000467 2.42e-08\n",
      "  1.52e-05 1.68e-07 2.42e-08 3.13e-13\n",
      "\n",
      "*** Chi matrix ND (MHz) \n",
      "     -10.1     2.15    0.392 1.33e-05\n",
      "      2.15  -0.0168  0.00343 1.17e-07\n",
      "     0.392  0.00343 -0.00027 1.89e-08\n",
      "  1.33e-05 1.17e-07 1.89e-08  6.1e-11\n",
      "\n",
      "*** Frequencies O1 PT (MHz)\n",
      "0     3918.868747\n",
      "1     5018.138979\n",
      "2     5540.918264\n",
      "3    10103.207414\n",
      "dtype: float64\n",
      "\n",
      "*** Frequencies ND (MHz)\n",
      "0     3920.909803\n",
      "1     5018.417920\n",
      "2     5540.942645\n",
      "3    10103.207414\n",
      "dtype: float64\n",
      "\n",
      "*** Q_coupling\n",
      "Empty DataFrame\n",
      "Columns: []\n",
      "Index: [0, 1, 2, 3]\n",
      "\n",
      " . . . . . . . . . . . . . . . . . . . . . . . . . . . . . . . . . . . . . . . . \n",
      "Variation 3\n",
      "\n",
      "Starting the diagonalization\n",
      "Finished the diagonalization\n"
     ]
    },
    {
     "name": "stderr",
     "output_type": "stream",
     "text": [
      "ERROR 12:07PM [_get_participation_normalized]: WARNING: U_tot_cap-U_tot_ind / mean = 40.5% is > 15%.                     \n",
      "Is the simulation converged? Proceed with caution\n"
     ]
    },
    {
     "name": "stdout",
     "output_type": "stream",
     "text": [
      "Pm_norm=\n",
      "modes\n",
      "0    1.022010e+00\n",
      "1    1.016614e+00\n",
      "2    1.019889e+00\n",
      "3    1.414765e+07\n",
      "dtype: float64\n",
      "\n",
      "Pm_norm idx =\n",
      "      j1\n",
      "0   True\n",
      "1  False\n",
      "2  False\n",
      "3  False\n",
      "\n",
      "*** Different parameters\n"
     ]
    },
    {
     "data": {
      "text/plain": [
       "_CenterOffset                   -0.25mm\n",
       "_LJ                                16nH\n",
       "_padHeight        0.29999999999999999mm\n",
       "_padLen            1.2999999999999998mm\n",
       "_PadOffset        0.10000000000000001mm\n",
       "_pinStorageLen                   6.54mm\n",
       "_ROpin2Len         9.9250000000000007mm\n",
       "Name: 3, dtype: object"
      ]
     },
     "metadata": {},
     "output_type": "display_data"
    },
    {
     "name": "stderr",
     "output_type": "stream",
     "text": [
      "ERROR 12:07PM [_get_participation_normalized]: WARNING: U_tot_cap-U_tot_ind / mean = 41.8% is > 15%.                     \n",
      "Is the simulation converged? Proceed with caution\n"
     ]
    },
    {
     "name": "stdout",
     "output_type": "stream",
     "text": [
      "\n",
      "\n",
      "*** P (participation matrix, not normlz.)\n",
      "             j1\n",
      "0  9.479940e-01\n",
      "1  1.384883e-03\n",
      "2  2.871338e-04\n",
      "3  1.430103e-08\n",
      "\n",
      "*** S (sign-bit matrix)\n",
      "   s_j1\n",
      "0     1\n",
      "1     1\n",
      "2     1\n",
      "3     1\n",
      "*** P (participation matrix, normalized.)\n",
      "      0.97\n",
      "    0.0014\n",
      "   0.00029\n",
      "   1.4e-08\n",
      "\n",
      "*** Chi matrix O1 PT (MHz)\n",
      "    Diag is anharmonicity, off diag is full cross-Kerr.\n",
      "       194     0.68    0.155 1.32e-05\n",
      "      0.68 0.000596 0.000272 2.32e-08\n",
      "     0.155 0.000272 3.09e-05 5.29e-09\n",
      "  1.32e-05 2.32e-08 5.29e-09 2.26e-13\n",
      "\n",
      "*** Chi matrix ND (MHz) \n",
      "     -12.5    0.353    0.102 1.15e-05\n",
      "     0.353-0.000453 0.000143 1.57e-08\n",
      "     0.102 0.000143-1.83e-05 4.03e-09\n",
      "  1.15e-05 1.57e-08 4.03e-09-3.43e-11\n",
      "\n",
      "*** Frequencies O1 PT (MHz)\n",
      "0    3911.605872\n",
      "1    5041.011755\n",
      "2    5537.169418\n",
      "3    9513.558354\n",
      "dtype: float64\n",
      "\n",
      "*** Frequencies ND (MHz)\n",
      "0    3914.138378\n",
      "1    5041.057827\n",
      "2    5537.175725\n",
      "3    9513.558353\n",
      "dtype: float64\n",
      "\n",
      "*** Q_coupling\n",
      "Empty DataFrame\n",
      "Columns: []\n",
      "Index: [0, 1, 2, 3]\n",
      "\n",
      " . . . . . . . . . . . . . . . . . . . . . . . . . . . . . . . . . . . . . . . . \n",
      "Variation 4\n",
      "\n",
      "Starting the diagonalization\n",
      "Finished the diagonalization\n"
     ]
    },
    {
     "name": "stderr",
     "output_type": "stream",
     "text": [
      "ERROR 12:07PM [_get_participation_normalized]: WARNING: U_tot_cap-U_tot_ind / mean = 41.8% is > 15%.                     \n",
      "Is the simulation converged? Proceed with caution\n"
     ]
    },
    {
     "name": "stdout",
     "output_type": "stream",
     "text": [
      "Pm_norm=\n",
      "modes\n",
      "0    1.022045e+00\n",
      "1    1.016615e+00\n",
      "2    1.019882e+00\n",
      "3    2.625992e+07\n",
      "dtype: float64\n",
      "\n",
      "Pm_norm idx =\n",
      "      j1\n",
      "0   True\n",
      "1  False\n",
      "2  False\n",
      "3  False\n",
      "\n",
      "*** Different parameters\n"
     ]
    },
    {
     "data": {
      "text/plain": [
       "_CenterOffset                       0mm\n",
       "_LJ                                16nH\n",
       "_padHeight        0.29999999999999999mm\n",
       "_padLen            1.2999999999999998mm\n",
       "_PadOffset        0.10000000000000001mm\n",
       "_pinStorageLen                   6.54mm\n",
       "_ROpin2Len         9.9250000000000007mm\n",
       "Name: 4, dtype: object"
      ]
     },
     "metadata": {},
     "output_type": "display_data"
    },
    {
     "name": "stderr",
     "output_type": "stream",
     "text": [
      "ERROR 12:07PM [_get_participation_normalized]: WARNING: U_tot_cap-U_tot_ind / mean = 41.6% is > 15%.                     \n",
      "Is the simulation converged? Proceed with caution\n"
     ]
    },
    {
     "name": "stdout",
     "output_type": "stream",
     "text": [
      "\n",
      "\n",
      "*** P (participation matrix, not normlz.)\n",
      "             j1\n",
      "0  9.471042e-01\n",
      "1  2.584394e-03\n",
      "2  1.725442e-04\n",
      "3  7.956435e-09\n",
      "\n",
      "*** S (sign-bit matrix)\n",
      "   s_j1\n",
      "0     1\n",
      "1     1\n",
      "2     1\n",
      "3     1\n",
      "*** P (participation matrix, normalized.)\n",
      "      0.97\n",
      "    0.0026\n",
      "   0.00017\n",
      "     8e-09\n",
      "\n",
      "*** Chi matrix O1 PT (MHz)\n",
      "    Diag is anharmonicity, off diag is full cross-Kerr.\n",
      "       194     1.27    0.093 7.42e-06\n",
      "      1.27  0.00207 0.000305 2.43e-08\n",
      "     0.093 0.000305 1.12e-05 1.78e-09\n",
      "  7.42e-06 2.43e-08 1.78e-09 7.11e-14\n",
      "\n",
      "*** Chi matrix ND (MHz) \n",
      "     -12.3    0.654   0.0613 6.43e-06\n",
      "     0.654 -0.00159 0.000159 1.65e-08\n",
      "    0.0613 0.000159-6.64e-06 1.36e-09\n",
      "  6.43e-06 1.65e-08 1.36e-09       -0\n",
      "\n",
      "*** Frequencies O1 PT (MHz)\n",
      "0    3915.467661\n",
      "1    5038.025928\n",
      "2    5538.846349\n",
      "3    9579.732798\n",
      "dtype: float64\n",
      "\n",
      "*** Frequencies ND (MHz)\n",
      "0    3917.933604\n",
      "1    5038.112851\n",
      "2    5538.850183\n",
      "3    9579.732797\n",
      "dtype: float64\n",
      "\n",
      "*** Q_coupling\n",
      "Empty DataFrame\n",
      "Columns: []\n",
      "Index: [0, 1, 2, 3]\n",
      "\n",
      " . . . . . . . . . . . . . . . . . . . . . . . . . . . . . . . . . . . . . . . . \n",
      "Variation 5\n",
      "\n",
      "Starting the diagonalization\n",
      "Finished the diagonalization\n"
     ]
    },
    {
     "name": "stderr",
     "output_type": "stream",
     "text": [
      "ERROR 12:07PM [_get_participation_normalized]: WARNING: U_tot_cap-U_tot_ind / mean = 41.6% is > 15%.                     \n",
      "Is the simulation converged? Proceed with caution\n"
     ]
    },
    {
     "name": "stdout",
     "output_type": "stream",
     "text": [
      "Pm_norm=\n",
      "modes\n",
      "0    1.020711e+00\n",
      "1    1.016101e+00\n",
      "2    1.019360e+00\n",
      "3    8.231304e+06\n",
      "dtype: float64\n",
      "\n",
      "Pm_norm idx =\n",
      "      j1\n",
      "0   True\n",
      "1  False\n",
      "2  False\n",
      "3  False\n",
      "\n",
      "*** Different parameters\n"
     ]
    },
    {
     "data": {
      "text/plain": [
       "_CenterOffset                    -0.5mm\n",
       "_LJ                                16nH\n",
       "_padHeight        0.29999999999999999mm\n",
       "_padLen            1.2999999999999998mm\n",
       "_PadOffset        0.10000000000000001mm\n",
       "_pinStorageLen                   6.54mm\n",
       "_ROpin2Len         9.9250000000000007mm\n",
       "Name: 5, dtype: object"
      ]
     },
     "metadata": {},
     "output_type": "display_data"
    },
    {
     "name": "stderr",
     "output_type": "stream",
     "text": [
      "ERROR 12:07PM [_get_participation_normalized]: WARNING: U_tot_cap-U_tot_ind / mean = 41.3% is > 15%.                     \n",
      "Is the simulation converged? Proceed with caution\n"
     ]
    },
    {
     "name": "stdout",
     "output_type": "stream",
     "text": [
      "\n",
      "\n",
      "*** P (participation matrix, not normlz.)\n",
      "             j1\n",
      "0  9.497785e-01\n",
      "1  6.835676e-04\n",
      "2  4.575888e-04\n",
      "3  2.524943e-08\n",
      "\n",
      "*** S (sign-bit matrix)\n",
      "   s_j1\n",
      "0     1\n",
      "1     1\n",
      "2     1\n",
      "3     1\n",
      "*** P (participation matrix, normalized.)\n",
      "      0.97\n",
      "   0.00068\n",
      "   0.00046\n",
      "   2.5e-08\n",
      "\n",
      "*** Chi matrix O1 PT (MHz)\n",
      "    Diag is anharmonicity, off diag is full cross-Kerr.\n",
      "       191    0.333    0.245 2.22e-05\n",
      "     0.333 0.000145 0.000214 1.94e-08\n",
      "     0.245 0.000214 7.85e-05 1.42e-08\n",
      "  2.22e-05 1.94e-08 1.42e-08 6.46e-13\n",
      "\n",
      "*** Chi matrix ND (MHz) \n",
      "     -12.3    0.179    0.164 1.92e-05\n",
      "     0.179-0.000107 0.000116 1.31e-08\n",
      "     0.164 0.000116-4.52e-05 1.08e-08\n",
      "  1.92e-05 1.31e-08 1.08e-08 6.87e-11\n",
      "\n",
      "*** Frequencies O1 PT (MHz)\n",
      "0    3882.719484\n",
      "1    5041.904673\n",
      "2    5533.608611\n",
      "3    9099.032418\n",
      "dtype: float64\n",
      "\n",
      "*** Frequencies ND (MHz)\n",
      "0    3885.229566\n",
      "1    5041.926074\n",
      "2    5533.618118\n",
      "3    9099.032418\n",
      "dtype: float64\n",
      "\n",
      "*** Q_coupling\n",
      "Empty DataFrame\n",
      "Columns: []\n",
      "Index: [0, 1, 2, 3]\n",
      "\n",
      " . . . . . . . . . . . . . . . . . . . . . . . . . . . . . . . . . . . . . . . . \n",
      "Variation 6\n",
      "\n",
      "Starting the diagonalization\n",
      "Finished the diagonalization\n"
     ]
    },
    {
     "name": "stderr",
     "output_type": "stream",
     "text": [
      "ERROR 12:07PM [_get_participation_normalized]: WARNING: U_tot_cap-U_tot_ind / mean = 41.3% is > 15%.                     \n",
      "Is the simulation converged? Proceed with caution\n"
     ]
    },
    {
     "name": "stdout",
     "output_type": "stream",
     "text": [
      "Pm_norm=\n",
      "modes\n",
      "0    1.021237e+00\n",
      "1    1.016392e+00\n",
      "2    1.019665e+00\n",
      "3    4.396113e+06\n",
      "dtype: float64\n",
      "\n",
      "Pm_norm idx =\n",
      "      j1\n",
      "0   True\n",
      "1  False\n",
      "2  False\n",
      "3  False\n",
      "\n",
      "*** Different parameters\n"
     ]
    },
    {
     "data": {
      "text/plain": [
       "_CenterOffset                    -0.5mm\n",
       "_LJ                                16nH\n",
       "_padHeight        0.20000000000000001mm\n",
       "_padLen                           1.7mm\n",
       "_PadOffset        0.10000000000000001mm\n",
       "_pinStorageLen                   6.54mm\n",
       "_ROpin2Len         9.9250000000000007mm\n",
       "Name: 6, dtype: object"
      ]
     },
     "metadata": {},
     "output_type": "display_data"
    },
    {
     "name": "stderr",
     "output_type": "stream",
     "text": [
      "ERROR 12:07PM [_get_participation_normalized]: WARNING: U_tot_cap-U_tot_ind / mean = 41.5% is > 15%.                     \n",
      "Is the simulation converged? Proceed with caution\n"
     ]
    },
    {
     "name": "stdout",
     "output_type": "stream",
     "text": [
      "\n",
      "\n",
      "*** P (participation matrix, not normlz.)\n",
      "             j1\n",
      "0  9.387371e-01\n",
      "1  1.303568e-03\n",
      "2  8.526445e-04\n",
      "3  4.693870e-08\n",
      "\n",
      "*** S (sign-bit matrix)\n",
      "   s_j1\n",
      "0     1\n",
      "1     1\n",
      "2     1\n",
      "3     1\n",
      "*** P (participation matrix, normalized.)\n",
      "      0.96\n",
      "    0.0013\n",
      "   0.00085\n",
      "   4.7e-08\n",
      "\n",
      "*** Chi matrix O1 PT (MHz)\n",
      "    Diag is anharmonicity, off diag is full cross-Kerr.\n",
      "       188     0.63    0.452 4.12e-05\n",
      "      0.63 0.000529 0.000759 6.91e-08\n",
      "     0.452 0.000759 0.000272 4.96e-08\n",
      "  4.12e-05 6.91e-08 4.96e-08 2.26e-12\n",
      "\n",
      "*** Chi matrix ND (MHz) \n",
      "     -11.8     0.34    0.304 3.56e-05\n",
      "      0.34-0.000387 0.000412 4.72e-08\n",
      "     0.304 0.000412-0.000156 3.78e-08\n",
      "  3.56e-05 4.72e-08 3.78e-08-3.05e-11\n",
      "\n",
      "*** Frequencies O1 PT (MHz)\n",
      "0    3896.113499\n",
      "1    5042.819838\n",
      "2    5534.433171\n",
      "3    9153.554845\n",
      "dtype: float64\n",
      "\n",
      "*** Frequencies ND (MHz)\n",
      "0    3898.543005\n",
      "1    5042.860358\n",
      "2    5534.450843\n",
      "3    9153.554845\n",
      "dtype: float64\n",
      "\n",
      "*** Q_coupling\n",
      "Empty DataFrame\n",
      "Columns: []\n",
      "Index: [0, 1, 2, 3]\n",
      "\n",
      " . . . . . . . . . . . . . . . . . . . . . . . . . . . . . . . . . . . . . . . . \n",
      "Variation 7\n",
      "\n",
      "Starting the diagonalization\n",
      "Finished the diagonalization\n"
     ]
    },
    {
     "name": "stderr",
     "output_type": "stream",
     "text": [
      "ERROR 12:07PM [_get_participation_normalized]: WARNING: U_tot_cap-U_tot_ind / mean = 41.5% is > 15%.                     \n",
      "Is the simulation converged? Proceed with caution\n"
     ]
    },
    {
     "name": "stdout",
     "output_type": "stream",
     "text": [
      "Pm_norm=\n",
      "modes\n",
      "0    1.021288e+00\n",
      "1    1.016315e+00\n",
      "2    1.019576e+00\n",
      "3    1.341400e+07\n",
      "dtype: float64\n",
      "\n",
      "Pm_norm idx =\n",
      "      j1\n",
      "0   True\n",
      "1  False\n",
      "2  False\n",
      "3  False\n",
      "\n",
      "*** Different parameters\n"
     ]
    },
    {
     "data": {
      "text/plain": [
       "_CenterOffset                       0mm\n",
       "_LJ                                16nH\n",
       "_padHeight        0.20000000000000001mm\n",
       "_padLen                           1.7mm\n",
       "_PadOffset        0.10000000000000001mm\n",
       "_pinStorageLen                   6.54mm\n",
       "_ROpin2Len         9.9250000000000007mm\n",
       "Name: 7, dtype: object"
      ]
     },
     "metadata": {},
     "output_type": "display_data"
    },
    {
     "name": "stderr",
     "output_type": "stream",
     "text": [
      "ERROR 12:07PM [_get_participation_normalized]: WARNING: U_tot_cap-U_tot_ind / mean = 41.5% is > 15%.                     \n",
      "Is the simulation converged? Proceed with caution\n"
     ]
    },
    {
     "name": "stdout",
     "output_type": "stream",
     "text": [
      "\n",
      "\n",
      "*** P (participation matrix, not normlz.)\n",
      "             j1\n",
      "0  9.361767e-01\n",
      "1  4.583193e-03\n",
      "2  3.440183e-04\n",
      "3  1.545894e-08\n",
      "\n",
      "*** S (sign-bit matrix)\n",
      "   s_j1\n",
      "0     1\n",
      "1     1\n",
      "2     1\n",
      "3     1\n",
      "*** P (participation matrix, normalized.)\n",
      "      0.96\n",
      "    0.0046\n",
      "   0.00034\n",
      "   1.5e-08\n",
      "\n",
      "*** Chi matrix O1 PT (MHz)\n",
      "    Diag is anharmonicity, off diag is full cross-Kerr.\n",
      "       189     2.22    0.183 1.42e-05\n",
      "      2.22  0.00653  0.00108 8.36e-08\n",
      "     0.183  0.00108 4.44e-05 6.89e-09\n",
      "  1.42e-05 8.36e-08 6.89e-09 2.68e-13\n",
      "\n",
      "*** Chi matrix ND (MHz) \n",
      "     -11.4     1.16    0.121 1.24e-05\n",
      "      1.16 -0.00492 0.000567 5.68e-08\n",
      "     0.121 0.000567-2.61e-05 5.28e-09\n",
      "  1.24e-05 5.68e-08 5.28e-09 3.81e-12\n",
      "\n",
      "*** Frequencies O1 PT (MHz)\n",
      "0    3922.219138\n",
      "1    5037.979800\n",
      "2    5538.245142\n",
      "3    9565.070069\n",
      "dtype: float64\n",
      "\n",
      "*** Frequencies ND (MHz)\n",
      "0    3924.511529\n",
      "1    5038.130840\n",
      "2    5538.252717\n",
      "3    9565.070069\n",
      "dtype: float64\n",
      "\n",
      "*** Q_coupling\n",
      "Empty DataFrame\n",
      "Columns: []\n",
      "Index: [0, 1, 2, 3]\n",
      "\n",
      " . . . . . . . . . . . . . . . . . . . . . . . . . . . . . . . . . . . . . . . . \n",
      "Variation 8\n",
      "\n",
      "Starting the diagonalization\n",
      "Finished the diagonalization\n"
     ]
    },
    {
     "name": "stderr",
     "output_type": "stream",
     "text": [
      "ERROR 12:07PM [_get_participation_normalized]: WARNING: U_tot_cap-U_tot_ind / mean = 41.5% is > 15%.                     \n",
      "Is the simulation converged? Proceed with caution\n"
     ]
    },
    {
     "name": "stdout",
     "output_type": "stream",
     "text": [
      "Pm_norm=\n",
      "modes\n",
      "0    1.021328e+00\n",
      "1    1.016294e+00\n",
      "2    1.019578e+00\n",
      "3    7.911352e+06\n",
      "dtype: float64\n",
      "\n",
      "Pm_norm idx =\n",
      "      j1\n",
      "0   True\n",
      "1  False\n",
      "2  False\n",
      "3  False\n",
      "\n",
      "*** Different parameters\n"
     ]
    },
    {
     "data": {
      "text/plain": [
       "_CenterOffset                   -0.25mm\n",
       "_LJ                                16nH\n",
       "_padHeight        0.20000000000000001mm\n",
       "_padLen                           1.7mm\n",
       "_PadOffset        0.10000000000000001mm\n",
       "_pinStorageLen                   6.54mm\n",
       "_ROpin2Len         9.9250000000000007mm\n",
       "Name: 8, dtype: object"
      ]
     },
     "metadata": {},
     "output_type": "display_data"
    },
    {
     "name": "stdout",
     "output_type": "stream",
     "text": [
      "\n",
      "\n",
      "*** P (participation matrix, not normlz.)\n",
      "             j1\n",
      "0  9.375559e-01\n",
      "1  2.579407e-03\n",
      "2  5.644190e-04\n",
      "3  2.622939e-08\n",
      "\n",
      "*** S (sign-bit matrix)\n",
      "   s_j1\n",
      "0     1\n",
      "1     1\n",
      "2     1\n",
      "3     1\n",
      "*** P (participation matrix, normalized.)\n",
      "      0.96\n",
      "    0.0026\n",
      "   0.00056\n",
      "   2.6e-08\n",
      "\n",
      "*** Chi matrix O1 PT (MHz)\n",
      "    Diag is anharmonicity, off diag is full cross-Kerr.\n",
      "       190     1.25    0.302 2.41e-05\n",
      "      1.25  0.00207 0.000995 7.97e-08\n",
      "     0.302 0.000995  0.00012 1.91e-08\n",
      "  2.41e-05 7.97e-08 1.91e-08 7.66e-13\n",
      "\n",
      "*** Chi matrix ND (MHz) \n",
      "     -11.8    0.654      0.2  2.1e-05\n",
      "     0.654 -0.00156 0.000524  5.4e-08\n",
      "       0.2 0.000524-7.01e-05 1.46e-08\n",
      "   2.1e-05  5.4e-08 1.46e-08-1.14e-11\n",
      "\n",
      "*** Frequencies O1 PT (MHz)\n",
      "0    3926.240484\n",
      "1    5042.603667\n",
      "2    5539.365224\n",
      "3    9541.019254\n",
      "dtype: float64\n",
      "\n",
      "*** Frequencies ND (MHz)\n",
      "0    3928.660288\n",
      "1    5042.688994\n",
      "2    5539.377625\n",
      "3    9541.019254\n",
      "dtype: float64\n",
      "\n",
      "*** Q_coupling\n",
      "Empty DataFrame\n",
      "Columns: []\n",
      "Index: [0, 1, 2, 3]\n"
     ]
    }
   ],
   "source": [
    "%matplotlib inline\n",
    "# plot the figures in the notebook. \n",
    "\n",
    "# This is the core object for working with post processing data from HFSS\n",
    "# This iwll load the saved solutions from above\n",
    "# file = r'C:\\data-pyEPR\\DualCavity\\L Two Post Memory with a sapphire rod_eigenmode_gen3\\2022-01-18 11-26-20.npz'\n",
    "epra = epr.QuantumAnalysis(eprh.data_filename)\n",
    "\n",
    "# Analyze \n",
    "result = epra.analyze_all_variations(cos_trunc = 8, fock_trunc = 4)"
   ]
  },
  {
   "cell_type": "code",
   "execution_count": 38,
   "metadata": {},
   "outputs": [
    {
     "data": {
      "image/png": "[encoded data removed]",
      "text/plain": [
       "<Figure size 1152x648 with 4 Axes>"
      ]
     },
     "metadata": {
      "needs_background": "light"
     },
     "output_type": "display_data"
    }
   ],
   "source": [
    "epra.plot_hamiltonian_results(x_label = 'Chip offset (mm)');"
   ]
  },
  {
   "cell_type": "code",
   "execution_count": 46,
   "metadata": {},
   "outputs": [
    {
     "data": {
      "text/plain": [
       "142.2902780398406"
      ]
     },
     "execution_count": 46,
     "metadata": {},
     "output_type": "execute_result"
    }
   ],
   "source": [
    "np.array(result['1']['chi_O1'])[1,1]"
   ]
  },
  {
   "cell_type": "code",
   "execution_count": 82,
   "metadata": {},
   "outputs": [
    {
     "data": {
      "text/plain": [
       "odict_keys(['f_0', 'f_1', 'f_ND', 'chi_O1', 'chi_ND', 'ZPF', 'Pm_normed', 'Pm_raw', '_Pm_norm', '_Pm_cap_norm', 'hfss_variables', 'Ljs', 'Cjs', 'Q_coupling', 'Qs', 'fock_trunc', 'cos_trunc'])"
      ]
     },
     "execution_count": 82,
     "metadata": {},
     "output_type": "execute_result"
    }
   ],
   "source": [
    "result['1'].keys()"
   ]
  },
  {
   "cell_type": "code",
   "execution_count": 53,
   "metadata": {},
   "outputs": [],
   "source": [
    "RO_dis = []\n",
    "St_dis = []\n",
    "Anaha = []\n",
    "C = []\n",
    "dist = []\n",
    "RodOffset = []\n",
    "Pin2 = []\n",
    "padHeight = []\n",
    "LJ = []\n",
    "for i in eprh.variations:\n",
    "    chi = np.array(result[str(i)]['chi_O1'])\n",
    "    St_dis.append(chi[0,1])\n",
    "    RO_dis.append(chi[0,2])\n",
    "    Anaha.append(chi[0,0])\n",
    "    LJ.append(float(eprh.get_variables(str(i))['_LJ'].split('n')[0]))\n",
    "    C.append(10**6/(2*np.pi)**2/(np.array(result[str(i)]['f_0'])[0]/1000)**2/LJ[-1])\n",
    "    dist.append(float(eprh.get_variables(str(i))['_CenterOffset'].split('m')[0]))\n",
    "    Pin2.append(float(eprh.get_variables(str(i))['_ROpin2Len'].split('m')[0]))\n",
    "    RodOffset.append(float(eprh.get_variables(str(i))['_rodOffset'].split('m')[0]))\n",
    "    padHeight.append(float(eprh.get_variables(str(i))['_padHeight'].split('m')[0]))\n",
    "RodOffset = np.array(RodOffset)\n",
    "dist = np.array(dist)\n",
    "RO_dis = np.array(RO_dis)\n",
    "St_dis = np.array(St_dis)\n",
    "Anaha = np.array(Anaha)\n",
    "C = np.array(C)\n",
    "Pin2 = np.array(Pin2)\n",
    "padHeight = np.array(padHeight)\n",
    "LJ = np.array(LJ)"
   ]
  },
  {
   "cell_type": "code",
   "execution_count": 54,
   "metadata": {
    "scrolled": true
   },
   "outputs": [
    {
     "data": {
      "text/plain": [
       "<matplotlib.legend.Legend at 0x2341fa55748>"
      ]
     },
     "execution_count": 54,
     "metadata": {},
     "output_type": "execute_result"
    },
    {
     "data": {
      "image/png": "[encoded data removed]",
      "text/plain": [
       "<Figure size 432x288 with 1 Axes>"
      ]
     },
     "metadata": {
      "needs_background": "light"
     },
     "output_type": "display_data"
    }
   ],
   "source": [
    "plt.title('Dispersive shift [MHz]; Rod_offset = 0mm, Height = 0.1mm\\n PadLength = 2.2mm')\n",
    "ind = np.logical_and(Pin2==9.26, padHeight==0.1)\n",
    "plt.plot(dist[ind], St_dis[ind], 'b.',label = 'Transmon-Storage')\n",
    "plt.plot(dist[ind], RO_dis[ind], 'k.', label = 'Transmon-RO')\n",
    "plt.xlabel('Chip offset position (mm)')\n",
    "plt.ylabel('Dispersive shift (MHz)')\n",
    "plt.legend()"
   ]
  },
  {
   "cell_type": "code",
   "execution_count": 53,
   "metadata": {},
   "outputs": [
    {
     "data": {
      "text/plain": [
       "<matplotlib.legend.Legend at 0x277c0c874c8>"
      ]
     },
     "execution_count": 53,
     "metadata": {},
     "output_type": "execute_result"
    },
    {
     "data": {
      "image/png": "[encoded data removed]",
      "text/plain": [
       "<Figure size 432x288 with 1 Axes>"
      ]
     },
     "metadata": {
      "needs_background": "light"
     },
     "output_type": "display_data"
    }
   ],
   "source": [
    "plt.title('Dispersive shift [MHz]; Rod_offset = 5mm')\n",
    "plt.plot(dist[RodOffset==5], St_dis[RodOffset==5], 'b.',label = 'Transmon-Storage')\n",
    "plt.plot(dist[RodOffset==5], RO_dis[RodOffset==5], 'k.', label = 'Transmon-RO')\n",
    "plt.xlabel('Chip offset position (mm)')\n",
    "plt.ylabel('Dispersive shift (MHz)')\n",
    "plt.legend()"
   ]
  },
  {
   "cell_type": "code",
   "execution_count": 18,
   "metadata": {},
   "outputs": [
    {
     "data": {
      "text/plain": [
       "<matplotlib.legend.Legend at 0x2843f6dff88>"
      ]
     },
     "execution_count": 18,
     "metadata": {},
     "output_type": "execute_result"
    },
    {
     "data": {
      "image/png": "[encoded data removed]",
      "text/plain": [
       "<Figure size 432x288 with 1 Axes>"
      ]
     },
     "metadata": {
      "needs_background": "light"
     },
     "output_type": "display_data"
    }
   ],
   "source": [
    "plt.title('Transmon Anharmonicity [MHz]')\n",
    "plt.plot(dist, Anaha, 'b.',label = 'Anharmonicity')\n",
    "plt.xlabel('Chip offset position (mm)')\n",
    "plt.ylabel('Anharmonicity (MHz)')\n",
    "plt.legend()"
   ]
  },
  {
   "cell_type": "code",
   "execution_count": 55,
   "metadata": {},
   "outputs": [
    {
     "data": {
      "text/plain": [
       "<matplotlib.legend.Legend at 0x277c15e0d08>"
      ]
     },
     "execution_count": 55,
     "metadata": {},
     "output_type": "execute_result"
    },
    {
     "data": {
      "image/png": "[encoded data removed]",
      "text/plain": [
       "<Figure size 432x288 with 1 Axes>"
      ]
     },
     "metadata": {
      "needs_background": "light"
     },
     "output_type": "display_data"
    }
   ],
   "source": [
    "plt.title(r'Life time in the Purcell limit [ms] (Assume $T_q$ =20$\\mu$s)')\n",
    "plt.plot(dist, 2*np.array(Anaha)/np.array(St_dis)*20/1000, 'b.',label = 'Transmon-Storage')\n",
    "plt.plot(dist, 2*np.array(Anaha)/np.array(RO_dis)*20/1000, 'k.', label = 'Transmon-RO')\n",
    "plt.xlabel('Chip offset position (mm)')\n",
    "plt.ylabel(r'Life time [ms]')\n",
    "plt.legend()"
   ]
  },
  {
   "cell_type": "code",
   "execution_count": 47,
   "metadata": {},
   "outputs": [],
   "source": [
    "T_pSt = 2*np.array(Anaha)/np.array(St_dis)*20/1000\n",
    "T_pRO = 2*np.array(Anaha)/np.array(RO_dis)*20/1000"
   ]
  },
  {
   "cell_type": "code",
   "execution_count": 57,
   "metadata": {},
   "outputs": [],
   "source": [
    "C = np.array(C)\n",
    "EJ = Convert.Ej_from_Lj(LJ, 'nH', \"GHz\")\n",
    "EC = Convert.Ec_from_Cs(C, 'fF', \"MHz\")"
   ]
  },
  {
   "cell_type": "code",
   "execution_count": 58,
   "metadata": {},
   "outputs": [],
   "source": [
    "d = {'dist': dist, 'PadHeight':padHeight, 'Rod offset': RodOffset, 'LJ [nH]':LJ,'C [fF]':C, 'EJ [GHz]':EJ, 'EC [MHz]':EC, 'EJ/EC':EJ/EC*1000, 'Alpha [MHz]':Anaha, 'Chi_RO [MHz]':RO_dis, 'Chi_Storage [MHz]':St_dis,'Purcell_Storage [ms]': T_pSt, 'Purcell_RO [ms]': T_pRO}\n",
    "pf = pd.DataFrame(data = d)"
   ]
  },
  {
   "cell_type": "code",
   "execution_count": 59,
   "metadata": {
    "scrolled": false
   },
   "outputs": [
    {
     "data": {
      "text/html": [
       "<div>\n",
       "<style scoped>\n",
       "    .dataframe tbody tr th:only-of-type {\n",
       "        vertical-align: middle;\n",
       "    }\n",
       "\n",
       "    .dataframe tbody tr th {\n",
       "        vertical-align: top;\n",
       "    }\n",
       "\n",
       "    .dataframe thead th {\n",
       "        text-align: right;\n",
       "    }\n",
       "</style>\n",
       "<table border=\"1\" class=\"dataframe\">\n",
       "  <thead>\n",
       "    <tr style=\"text-align: right;\">\n",
       "      <th></th>\n",
       "      <th>dist</th>\n",
       "      <th>PadHeight</th>\n",
       "      <th>Rod offset</th>\n",
       "      <th>LJ [nH]</th>\n",
       "      <th>C [fF]</th>\n",
       "      <th>EJ [GHz]</th>\n",
       "      <th>EC [MHz]</th>\n",
       "      <th>EJ/EC</th>\n",
       "      <th>Alpha [MHz]</th>\n",
       "      <th>Chi_RO [MHz]</th>\n",
       "      <th>Chi_Storage [MHz]</th>\n",
       "      <th>Purcell_Storage [ms]</th>\n",
       "      <th>Purcell_RO [ms]</th>\n",
       "    </tr>\n",
       "  </thead>\n",
       "  <tbody>\n",
       "    <tr>\n",
       "      <th>0</th>\n",
       "      <td>0.00</td>\n",
       "      <td>0.1</td>\n",
       "      <td>0.0</td>\n",
       "      <td>16.39</td>\n",
       "      <td>91.184006</td>\n",
       "      <td>9.973247</td>\n",
       "      <td>212.430120</td>\n",
       "      <td>46.948364</td>\n",
       "      <td>182.607968</td>\n",
       "      <td>0.392669</td>\n",
       "      <td>7.323121</td>\n",
       "      <td>0.997433</td>\n",
       "      <td>18.601713</td>\n",
       "    </tr>\n",
       "    <tr>\n",
       "      <th>1</th>\n",
       "      <td>-0.50</td>\n",
       "      <td>0.1</td>\n",
       "      <td>0.0</td>\n",
       "      <td>16.39</td>\n",
       "      <td>92.991948</td>\n",
       "      <td>9.973247</td>\n",
       "      <td>208.300070</td>\n",
       "      <td>47.879229</td>\n",
       "      <td>183.118121</td>\n",
       "      <td>0.842472</td>\n",
       "      <td>2.218306</td>\n",
       "      <td>3.301945</td>\n",
       "      <td>8.694320</td>\n",
       "    </tr>\n",
       "    <tr>\n",
       "      <th>2</th>\n",
       "      <td>-0.25</td>\n",
       "      <td>0.1</td>\n",
       "      <td>0.0</td>\n",
       "      <td>16.39</td>\n",
       "      <td>91.690200</td>\n",
       "      <td>9.973247</td>\n",
       "      <td>211.257357</td>\n",
       "      <td>47.208991</td>\n",
       "      <td>184.329021</td>\n",
       "      <td>0.587015</td>\n",
       "      <td>4.076771</td>\n",
       "      <td>1.808579</td>\n",
       "      <td>12.560421</td>\n",
       "    </tr>\n",
       "    <tr>\n",
       "      <th>3</th>\n",
       "      <td>-0.25</td>\n",
       "      <td>0.3</td>\n",
       "      <td>0.0</td>\n",
       "      <td>16.00</td>\n",
       "      <td>93.921129</td>\n",
       "      <td>10.216345</td>\n",
       "      <td>206.239316</td>\n",
       "      <td>49.536358</td>\n",
       "      <td>193.594476</td>\n",
       "      <td>0.154761</td>\n",
       "      <td>0.679585</td>\n",
       "      <td>11.394859</td>\n",
       "      <td>50.036979</td>\n",
       "    </tr>\n",
       "    <tr>\n",
       "      <th>4</th>\n",
       "      <td>0.00</td>\n",
       "      <td>0.3</td>\n",
       "      <td>0.0</td>\n",
       "      <td>16.00</td>\n",
       "      <td>93.730748</td>\n",
       "      <td>10.216345</td>\n",
       "      <td>206.658218</td>\n",
       "      <td>49.435946</td>\n",
       "      <td>193.636946</td>\n",
       "      <td>0.093037</td>\n",
       "      <td>1.267668</td>\n",
       "      <td>6.110023</td>\n",
       "      <td>83.251780</td>\n",
       "    </tr>\n",
       "    <tr>\n",
       "      <th>5</th>\n",
       "      <td>-0.50</td>\n",
       "      <td>0.3</td>\n",
       "      <td>0.0</td>\n",
       "      <td>16.00</td>\n",
       "      <td>95.391577</td>\n",
       "      <td>10.216345</td>\n",
       "      <td>203.060164</td>\n",
       "      <td>50.311909</td>\n",
       "      <td>190.842455</td>\n",
       "      <td>0.244719</td>\n",
       "      <td>0.333093</td>\n",
       "      <td>22.917635</td>\n",
       "      <td>31.193695</td>\n",
       "    </tr>\n",
       "    <tr>\n",
       "      <th>6</th>\n",
       "      <td>-0.50</td>\n",
       "      <td>0.2</td>\n",
       "      <td>0.0</td>\n",
       "      <td>16.00</td>\n",
       "      <td>94.907369</td>\n",
       "      <td>10.216345</td>\n",
       "      <td>204.096157</td>\n",
       "      <td>50.056526</td>\n",
       "      <td>187.575291</td>\n",
       "      <td>0.452152</td>\n",
       "      <td>0.629882</td>\n",
       "      <td>11.911771</td>\n",
       "      <td>16.594020</td>\n",
       "    </tr>\n",
       "    <tr>\n",
       "      <th>7</th>\n",
       "      <td>0.00</td>\n",
       "      <td>0.2</td>\n",
       "      <td>0.0</td>\n",
       "      <td>16.00</td>\n",
       "      <td>93.602727</td>\n",
       "      <td>10.216345</td>\n",
       "      <td>206.940866</td>\n",
       "      <td>49.368425</td>\n",
       "      <td>189.172574</td>\n",
       "      <td>0.183327</td>\n",
       "      <td>2.222221</td>\n",
       "      <td>3.405108</td>\n",
       "      <td>41.275359</td>\n",
       "    </tr>\n",
       "    <tr>\n",
       "      <th>8</th>\n",
       "      <td>-0.25</td>\n",
       "      <td>0.2</td>\n",
       "      <td>0.0</td>\n",
       "      <td>16.00</td>\n",
       "      <td>93.393962</td>\n",
       "      <td>10.216345</td>\n",
       "      <td>207.403445</td>\n",
       "      <td>49.258317</td>\n",
       "      <td>190.169607</td>\n",
       "      <td>0.301635</td>\n",
       "      <td>1.254980</td>\n",
       "      <td>6.061280</td>\n",
       "      <td>25.218531</td>\n",
       "    </tr>\n",
       "  </tbody>\n",
       "</table>\n",
       "</div>"
      ],
      "text/plain": [
       "   dist  PadHeight  Rod offset  LJ [nH]     C [fF]   EJ [GHz]    EC [MHz]  \\\n",
       "0  0.00        0.1         0.0    16.39  91.184006   9.973247  212.430120   \n",
       "1 -0.50        0.1         0.0    16.39  92.991948   9.973247  208.300070   \n",
       "2 -0.25        0.1         0.0    16.39  91.690200   9.973247  211.257357   \n",
       "3 -0.25        0.3         0.0    16.00  93.921129  10.216345  206.239316   \n",
       "4  0.00        0.3         0.0    16.00  93.730748  10.216345  206.658218   \n",
       "5 -0.50        0.3         0.0    16.00  95.391577  10.216345  203.060164   \n",
       "6 -0.50        0.2         0.0    16.00  94.907369  10.216345  204.096157   \n",
       "7  0.00        0.2         0.0    16.00  93.602727  10.216345  206.940866   \n",
       "8 -0.25        0.2         0.0    16.00  93.393962  10.216345  207.403445   \n",
       "\n",
       "       EJ/EC  Alpha [MHz]  Chi_RO [MHz]  Chi_Storage [MHz]  \\\n",
       "0  46.948364   182.607968      0.392669           7.323121   \n",
       "1  47.879229   183.118121      0.842472           2.218306   \n",
       "2  47.208991   184.329021      0.587015           4.076771   \n",
       "3  49.536358   193.594476      0.154761           0.679585   \n",
       "4  49.435946   193.636946      0.093037           1.267668   \n",
       "5  50.311909   190.842455      0.244719           0.333093   \n",
       "6  50.056526   187.575291      0.452152           0.629882   \n",
       "7  49.368425   189.172574      0.183327           2.222221   \n",
       "8  49.258317   190.169607      0.301635           1.254980   \n",
       "\n",
       "   Purcell_Storage [ms]  Purcell_RO [ms]  \n",
       "0              0.997433        18.601713  \n",
       "1              3.301945         8.694320  \n",
       "2              1.808579        12.560421  \n",
       "3             11.394859        50.036979  \n",
       "4              6.110023        83.251780  \n",
       "5             22.917635        31.193695  \n",
       "6             11.911771        16.594020  \n",
       "7              3.405108        41.275359  \n",
       "8              6.061280        25.218531  "
      ]
     },
     "execution_count": 59,
     "metadata": {},
     "output_type": "execute_result"
    }
   ],
   "source": [
    "pf"
   ]
  },
  {
   "cell_type": "markdown",
   "metadata": {},
   "source": [
    "## <div style=\"background:#BBFABB;line-height:2em;\"> Swept variable analysis driven thorugh pyEPR:<br> Sweep variable in hfss, analyze microwaves, then analyze quantum<div>"
   ]
  },
  {
   "cell_type": "markdown",
   "metadata": {},
   "source": [
    "Let us now run a more complicated example, where we will sweep $L_j$. This demonstrates some of the `pyEPR` funcationality. "
   ]
  },
  {
   "cell_type": "markdown",
   "metadata": {},
   "source": [
    "**Classical microwave, distributed analysis**\n",
    "\n",
    "Sweep variable in HFSS, run circuits"
   ]
  },
  {
   "cell_type": "markdown",
   "metadata": {},
   "source": [
    "**EPR mw analysis**\n",
    "\n",
    "Classical-to-quantum bridge. "
   ]
  },
  {
   "cell_type": "code",
   "execution_count": null,
   "metadata": {
    "scrolled": false
   },
   "outputs": [],
   "source": [
    "eprh = epr.DistributedAnalysis(pinfo) # epr hfss analysis \n",
    "eprh.hfss_report_full_convergence()"
   ]
  },
  {
   "cell_type": "code",
   "execution_count": null,
   "metadata": {
    "scrolled": false
   },
   "outputs": [],
   "source": [
    "# Do EPR analysis for all modes and all variations \n",
    "eprh.do_EPR_analysis();"
   ]
  },
  {
   "cell_type": "markdown",
   "metadata": {},
   "source": [
    "**Quantum analysis** \n",
    "\n",
    "Perform the analysis and plot the results."
   ]
  },
  {
   "cell_type": "code",
   "execution_count": null,
   "metadata": {},
   "outputs": [],
   "source": [
    "# This is the core object for working with post processing data from HFSS\n",
    "# This will load the saved solutions from above\n",
    "epra = epr.QuantumAnalysis(eprh.data_filename)"
   ]
  },
  {
   "cell_type": "code",
   "execution_count": null,
   "metadata": {
    "scrolled": false
   },
   "outputs": [],
   "source": [
    "# Analyze \n",
    "epra.analyze_all_variations(cos_trunc = 8, fock_trunc = 15);"
   ]
  },
  {
   "cell_type": "code",
   "execution_count": null,
   "metadata": {},
   "outputs": [],
   "source": [
    "#Custom sort of columns\n",
    "def do_sort_index(df:pd.DataFrame):\n",
    "    if isinstance(df, pd.DataFrame):\n",
    "        df.columns = df.columns.astype(float)\n",
    "        return df.sort_index(axis=1)\n",
    "    else:\n",
    "        return df\n",
    "\n",
    "epra.results.do_sort_index = do_sort_index\n",
    "df = epra.results.get_frequencies_HFSS(vs='Lj_1')\n",
    "df"
   ]
  },
  {
   "cell_type": "code",
   "execution_count": null,
   "metadata": {},
   "outputs": [],
   "source": [
    "epra.results.sort_index = True\n",
    "epra.plot_hamiltonian_results(swp_variable='Lj_1');"
   ]
  },
  {
   "cell_type": "markdown",
   "metadata": {},
   "source": [
    "There is some jitter, since we have have run some of the runs to only a few passes here."
   ]
  },
  {
   "cell_type": "markdown",
   "metadata": {},
   "source": [
    "Please see Part II of the tutorial to continue. You will find it in the tutorial folder as a jupyter notebook. "
   ]
  },
  {
   "cell_type": "code",
   "execution_count": null,
   "metadata": {},
   "outputs": [],
   "source": [
    "epra.quick_plot_mode(0,0,1,numeric=True,swp_variable='Lj_1')"
   ]
  },
  {
   "cell_type": "code",
   "execution_count": null,
   "metadata": {},
   "outputs": [],
   "source": [
    "swp_variable = 'Lj_1'\n",
    "epra.report_results(swp_variable=swp_variable, numeric=True)"
   ]
  }
 ],
 "metadata": {
  "kernelspec": {
   "display_name": "Python 3 (ipykernel)",
   "language": "python",
   "name": "python3"
  },
  "language_info": {
   "codemirror_mode": {
    "name": "ipython",
    "version": 3
   },
   "file_extension": ".py",
   "mimetype": "text/x-python",
   "name": "python",
   "nbconvert_exporter": "python",
   "pygments_lexer": "ipython3",
   "version": "3.7.11"
  }
 },
 "nbformat": 4,
 "nbformat_minor": 4
}
